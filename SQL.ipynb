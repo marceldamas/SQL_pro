{
 "cells": [
  {
   "cell_type": "code",
   "execution_count": 1,
   "metadata": {},
   "outputs": [],
   "source": [
    "# import libraries\n",
    "import pandas as pd\n",
    "from sqlalchemy import create_engine"
   ]
  },
  {
   "cell_type": "markdown",
   "metadata": {},
   "source": [
    "<a name=\"table_of_contents\"></a> \n",
    "**Table of contents**\n",
    "\n",
    "**Instructions for completing the task**\n",
    "* Describe the goals of the study.\n",
    "* Study the tables (print the first rows).\n",
    "* Make an SQL query for each of the tasks.\n",
    "* Output the results of each query in the Notebook.\n",
    "* Describe your conclusions for each of the tasks.\n",
    "\n",
    "**SQL Project description**  \n",
    "\n",
    "The coronavirus took the entire world by surprise, changing everyone's daily routine. City dwellers no longer spent their free time outside, going to cafes and malls; more people were home, reading books. That attracted the attention of startups that rushed to develop new apps for book lovers.\n",
    "You've been given a database of one of the services competing in this market. It contains data on books, publishers, authors, and customer ratings and reviews of books. This information will be used to generate a value proposition for a new product.\n",
    "\n",
    "**Project goal** \n",
    "\n",
    "To enable a better overview for the startups in the book market for the develop of new apps for book lovers.\n",
    "\n",
    "**Task**  \n",
    "* Find the number of books released after January 1, 2000.\n",
    "* Find the number of user reviews and the average rating for each book.\n",
    "* Identify the publisher that has released the greatest number of books with more than 50 pages (this will help you exclude brochures and similar publications from your analysis).\n",
    "* Identify the author with the highest average book rating: look only at books with at least 50 ratings.\n",
    "* Find the average number of text reviews among users who rated more than 50 books.\n",
    "\n",
    "\n",
    "**Short final conclusion**"
   ]
  },
  {
   "attachments": {
    "Untitled.png": {
     "image/png": "[encoded data removed]"
    }
   },
   "cell_type": "markdown",
   "metadata": {},
   "source": [
    "![Untitled.png](attachment:Untitled.png)"
   ]
  },
  {
   "cell_type": "code",
   "execution_count": 2,
   "metadata": {},
   "outputs": [],
   "source": [
    "db_config = {'user': 'praktikum_student',# user name\n",
    "             'pwd': 'Sdf4$2;d-d30pp', # password\n",
    "             'host': 'rc1b-wcoijxj3yxfsf3fs.mdb.yandexcloud.net',\n",
    "             'port': 6432,# connection port\n",
    "             'db': 'data-analyst-final-project-db'}# the name of the data base\n",
    "\n",
    "connection_string = 'postgresql://{}:{}@{}:{}/{}'.format(db_config['user'],\n",
    "                                                                     db_config['pwd'],\n",
    "                                                                       db_config['host'],\n",
    "                                                                       db_config['port'],\n",
    "                                                                       db_config['db'])\n",
    "\n",
    "engine = create_engine(connection_string, connect_args={'sslmode':'require'})"
   ]
  },
  {
   "cell_type": "markdown",
   "metadata": {},
   "source": [
    "* Study the tables (print the first rows)."
   ]
  },
  {
   "cell_type": "code",
   "execution_count": 3,
   "metadata": {},
   "outputs": [
    {
     "name": "stdout",
     "output_type": "stream",
     "text": [
      "(1000, 6)\n"
     ]
    },
    {
     "data": {
      "text/html": [
       "<div>\n",
       "<style scoped>\n",
       "    .dataframe tbody tr th:only-of-type {\n",
       "        vertical-align: middle;\n",
       "    }\n",
       "\n",
       "    .dataframe tbody tr th {\n",
       "        vertical-align: top;\n",
       "    }\n",
       "\n",
       "    .dataframe thead th {\n",
       "        text-align: right;\n",
       "    }\n",
       "</style>\n",
       "<table border=\"1\" class=\"dataframe\">\n",
       "  <thead>\n",
       "    <tr style=\"text-align: right;\">\n",
       "      <th></th>\n",
       "      <th>book_id</th>\n",
       "      <th>author_id</th>\n",
       "      <th>title</th>\n",
       "      <th>num_pages</th>\n",
       "      <th>publication_date</th>\n",
       "      <th>publisher_id</th>\n",
       "    </tr>\n",
       "  </thead>\n",
       "  <tbody>\n",
       "    <tr>\n",
       "      <td>0</td>\n",
       "      <td>1</td>\n",
       "      <td>546</td>\n",
       "      <td>'Salem's Lot</td>\n",
       "      <td>594</td>\n",
       "      <td>2005-11-01</td>\n",
       "      <td>93</td>\n",
       "    </tr>\n",
       "    <tr>\n",
       "      <td>1</td>\n",
       "      <td>2</td>\n",
       "      <td>465</td>\n",
       "      <td>1 000 Places to See Before You Die</td>\n",
       "      <td>992</td>\n",
       "      <td>2003-05-22</td>\n",
       "      <td>336</td>\n",
       "    </tr>\n",
       "    <tr>\n",
       "      <td>2</td>\n",
       "      <td>3</td>\n",
       "      <td>407</td>\n",
       "      <td>13 Little Blue Envelopes (Little Blue Envelope...</td>\n",
       "      <td>322</td>\n",
       "      <td>2010-12-21</td>\n",
       "      <td>135</td>\n",
       "    </tr>\n",
       "    <tr>\n",
       "      <td>3</td>\n",
       "      <td>4</td>\n",
       "      <td>82</td>\n",
       "      <td>1491: New Revelations of the Americas Before C...</td>\n",
       "      <td>541</td>\n",
       "      <td>2006-10-10</td>\n",
       "      <td>309</td>\n",
       "    </tr>\n",
       "    <tr>\n",
       "      <td>4</td>\n",
       "      <td>5</td>\n",
       "      <td>125</td>\n",
       "      <td>1776</td>\n",
       "      <td>386</td>\n",
       "      <td>2006-07-04</td>\n",
       "      <td>268</td>\n",
       "    </tr>\n",
       "  </tbody>\n",
       "</table>\n",
       "</div>"
      ],
      "text/plain": [
       "   book_id  author_id                                              title  \\\n",
       "0        1        546                                       'Salem's Lot   \n",
       "1        2        465                 1 000 Places to See Before You Die   \n",
       "2        3        407  13 Little Blue Envelopes (Little Blue Envelope...   \n",
       "3        4         82  1491: New Revelations of the Americas Before C...   \n",
       "4        5        125                                               1776   \n",
       "\n",
       "   num_pages publication_date  publisher_id  \n",
       "0        594       2005-11-01            93  \n",
       "1        992       2003-05-22           336  \n",
       "2        322       2010-12-21           135  \n",
       "3        541       2006-10-10           309  \n",
       "4        386       2006-07-04           268  "
      ]
     },
     "metadata": {},
     "output_type": "display_data"
    }
   ],
   "source": [
    "query = ''' SELECT *\n",
    "    FROM books\n",
    "            '''\n",
    "books = pd.io.sql.read_sql(query, con = engine)\n",
    "print(books.shape)\n",
    "display(books.head())"
   ]
  },
  {
   "cell_type": "code",
   "execution_count": 4,
   "metadata": {},
   "outputs": [
    {
     "name": "stdout",
     "output_type": "stream",
     "text": [
      "(636, 2)\n"
     ]
    },
    {
     "data": {
      "text/html": [
       "<div>\n",
       "<style scoped>\n",
       "    .dataframe tbody tr th:only-of-type {\n",
       "        vertical-align: middle;\n",
       "    }\n",
       "\n",
       "    .dataframe tbody tr th {\n",
       "        vertical-align: top;\n",
       "    }\n",
       "\n",
       "    .dataframe thead th {\n",
       "        text-align: right;\n",
       "    }\n",
       "</style>\n",
       "<table border=\"1\" class=\"dataframe\">\n",
       "  <thead>\n",
       "    <tr style=\"text-align: right;\">\n",
       "      <th></th>\n",
       "      <th>author_id</th>\n",
       "      <th>author</th>\n",
       "    </tr>\n",
       "  </thead>\n",
       "  <tbody>\n",
       "    <tr>\n",
       "      <td>0</td>\n",
       "      <td>1</td>\n",
       "      <td>A.S. Byatt</td>\n",
       "    </tr>\n",
       "    <tr>\n",
       "      <td>1</td>\n",
       "      <td>2</td>\n",
       "      <td>Aesop/Laura Harris/Laura Gibbs</td>\n",
       "    </tr>\n",
       "    <tr>\n",
       "      <td>2</td>\n",
       "      <td>3</td>\n",
       "      <td>Agatha Christie</td>\n",
       "    </tr>\n",
       "    <tr>\n",
       "      <td>3</td>\n",
       "      <td>4</td>\n",
       "      <td>Alan Brennert</td>\n",
       "    </tr>\n",
       "    <tr>\n",
       "      <td>4</td>\n",
       "      <td>5</td>\n",
       "      <td>Alan Moore/David   Lloyd</td>\n",
       "    </tr>\n",
       "  </tbody>\n",
       "</table>\n",
       "</div>"
      ],
      "text/plain": [
       "   author_id                          author\n",
       "0          1                      A.S. Byatt\n",
       "1          2  Aesop/Laura Harris/Laura Gibbs\n",
       "2          3                 Agatha Christie\n",
       "3          4                   Alan Brennert\n",
       "4          5        Alan Moore/David   Lloyd"
      ]
     },
     "metadata": {},
     "output_type": "display_data"
    }
   ],
   "source": [
    "query = ''' SELECT *\n",
    "    FROM authors\n",
    "            '''\n",
    "authors = pd.io.sql.read_sql(query, con = engine)\n",
    "print(authors.shape)\n",
    "display(authors.head())"
   ]
  },
  {
   "cell_type": "code",
   "execution_count": 5,
   "metadata": {},
   "outputs": [
    {
     "name": "stdout",
     "output_type": "stream",
     "text": [
      "(340, 2)\n"
     ]
    },
    {
     "data": {
      "text/html": [
       "<div>\n",
       "<style scoped>\n",
       "    .dataframe tbody tr th:only-of-type {\n",
       "        vertical-align: middle;\n",
       "    }\n",
       "\n",
       "    .dataframe tbody tr th {\n",
       "        vertical-align: top;\n",
       "    }\n",
       "\n",
       "    .dataframe thead th {\n",
       "        text-align: right;\n",
       "    }\n",
       "</style>\n",
       "<table border=\"1\" class=\"dataframe\">\n",
       "  <thead>\n",
       "    <tr style=\"text-align: right;\">\n",
       "      <th></th>\n",
       "      <th>publisher_id</th>\n",
       "      <th>publisher</th>\n",
       "    </tr>\n",
       "  </thead>\n",
       "  <tbody>\n",
       "    <tr>\n",
       "      <td>0</td>\n",
       "      <td>1</td>\n",
       "      <td>Ace</td>\n",
       "    </tr>\n",
       "    <tr>\n",
       "      <td>1</td>\n",
       "      <td>2</td>\n",
       "      <td>Ace Book</td>\n",
       "    </tr>\n",
       "    <tr>\n",
       "      <td>2</td>\n",
       "      <td>3</td>\n",
       "      <td>Ace Books</td>\n",
       "    </tr>\n",
       "    <tr>\n",
       "      <td>3</td>\n",
       "      <td>4</td>\n",
       "      <td>Ace Hardcover</td>\n",
       "    </tr>\n",
       "    <tr>\n",
       "      <td>4</td>\n",
       "      <td>5</td>\n",
       "      <td>Addison Wesley Publishing Company</td>\n",
       "    </tr>\n",
       "  </tbody>\n",
       "</table>\n",
       "</div>"
      ],
      "text/plain": [
       "   publisher_id                          publisher\n",
       "0             1                                Ace\n",
       "1             2                           Ace Book\n",
       "2             3                          Ace Books\n",
       "3             4                      Ace Hardcover\n",
       "4             5  Addison Wesley Publishing Company"
      ]
     },
     "metadata": {},
     "output_type": "display_data"
    }
   ],
   "source": [
    "query = ''' SELECT *\n",
    "    FROM publishers\n",
    "            '''\n",
    "publishers = pd.io.sql.read_sql(query, con = engine)\n",
    "print(publishers.shape)\n",
    "display(publishers.head())"
   ]
  },
  {
   "cell_type": "code",
   "execution_count": 6,
   "metadata": {},
   "outputs": [
    {
     "name": "stdout",
     "output_type": "stream",
     "text": [
      "(6456, 4)\n"
     ]
    },
    {
     "data": {
      "text/html": [
       "<div>\n",
       "<style scoped>\n",
       "    .dataframe tbody tr th:only-of-type {\n",
       "        vertical-align: middle;\n",
       "    }\n",
       "\n",
       "    .dataframe tbody tr th {\n",
       "        vertical-align: top;\n",
       "    }\n",
       "\n",
       "    .dataframe thead th {\n",
       "        text-align: right;\n",
       "    }\n",
       "</style>\n",
       "<table border=\"1\" class=\"dataframe\">\n",
       "  <thead>\n",
       "    <tr style=\"text-align: right;\">\n",
       "      <th></th>\n",
       "      <th>rating_id</th>\n",
       "      <th>book_id</th>\n",
       "      <th>username</th>\n",
       "      <th>rating</th>\n",
       "    </tr>\n",
       "  </thead>\n",
       "  <tbody>\n",
       "    <tr>\n",
       "      <td>0</td>\n",
       "      <td>1</td>\n",
       "      <td>1</td>\n",
       "      <td>ryanfranco</td>\n",
       "      <td>4</td>\n",
       "    </tr>\n",
       "    <tr>\n",
       "      <td>1</td>\n",
       "      <td>2</td>\n",
       "      <td>1</td>\n",
       "      <td>grantpatricia</td>\n",
       "      <td>2</td>\n",
       "    </tr>\n",
       "    <tr>\n",
       "      <td>2</td>\n",
       "      <td>3</td>\n",
       "      <td>1</td>\n",
       "      <td>brandtandrea</td>\n",
       "      <td>5</td>\n",
       "    </tr>\n",
       "    <tr>\n",
       "      <td>3</td>\n",
       "      <td>4</td>\n",
       "      <td>2</td>\n",
       "      <td>lorichen</td>\n",
       "      <td>3</td>\n",
       "    </tr>\n",
       "    <tr>\n",
       "      <td>4</td>\n",
       "      <td>5</td>\n",
       "      <td>2</td>\n",
       "      <td>mariokeller</td>\n",
       "      <td>2</td>\n",
       "    </tr>\n",
       "  </tbody>\n",
       "</table>\n",
       "</div>"
      ],
      "text/plain": [
       "   rating_id  book_id       username  rating\n",
       "0          1        1     ryanfranco       4\n",
       "1          2        1  grantpatricia       2\n",
       "2          3        1   brandtandrea       5\n",
       "3          4        2       lorichen       3\n",
       "4          5        2    mariokeller       2"
      ]
     },
     "metadata": {},
     "output_type": "display_data"
    }
   ],
   "source": [
    "query = ''' SELECT *\n",
    "    FROM ratings\n",
    "            '''\n",
    "ratings = pd.io.sql.read_sql(query, con = engine)\n",
    "print(ratings.shape)\n",
    "display(ratings.head())"
   ]
  },
  {
   "cell_type": "code",
   "execution_count": 7,
   "metadata": {},
   "outputs": [
    {
     "name": "stdout",
     "output_type": "stream",
     "text": [
      "(2793, 4)\n"
     ]
    },
    {
     "data": {
      "text/html": [
       "<div>\n",
       "<style scoped>\n",
       "    .dataframe tbody tr th:only-of-type {\n",
       "        vertical-align: middle;\n",
       "    }\n",
       "\n",
       "    .dataframe tbody tr th {\n",
       "        vertical-align: top;\n",
       "    }\n",
       "\n",
       "    .dataframe thead th {\n",
       "        text-align: right;\n",
       "    }\n",
       "</style>\n",
       "<table border=\"1\" class=\"dataframe\">\n",
       "  <thead>\n",
       "    <tr style=\"text-align: right;\">\n",
       "      <th></th>\n",
       "      <th>review_id</th>\n",
       "      <th>book_id</th>\n",
       "      <th>username</th>\n",
       "      <th>text</th>\n",
       "    </tr>\n",
       "  </thead>\n",
       "  <tbody>\n",
       "    <tr>\n",
       "      <td>0</td>\n",
       "      <td>1</td>\n",
       "      <td>1</td>\n",
       "      <td>brandtandrea</td>\n",
       "      <td>Mention society tell send professor analysis. ...</td>\n",
       "    </tr>\n",
       "    <tr>\n",
       "      <td>1</td>\n",
       "      <td>2</td>\n",
       "      <td>1</td>\n",
       "      <td>ryanfranco</td>\n",
       "      <td>Foot glass pretty audience hit themselves. Amo...</td>\n",
       "    </tr>\n",
       "    <tr>\n",
       "      <td>2</td>\n",
       "      <td>3</td>\n",
       "      <td>2</td>\n",
       "      <td>lorichen</td>\n",
       "      <td>Listen treat keep worry. Miss husband tax but ...</td>\n",
       "    </tr>\n",
       "    <tr>\n",
       "      <td>3</td>\n",
       "      <td>4</td>\n",
       "      <td>3</td>\n",
       "      <td>johnsonamanda</td>\n",
       "      <td>Finally month interesting blue could nature cu...</td>\n",
       "    </tr>\n",
       "    <tr>\n",
       "      <td>4</td>\n",
       "      <td>5</td>\n",
       "      <td>3</td>\n",
       "      <td>scotttamara</td>\n",
       "      <td>Nation purpose heavy give wait song will. List...</td>\n",
       "    </tr>\n",
       "  </tbody>\n",
       "</table>\n",
       "</div>"
      ],
      "text/plain": [
       "   review_id  book_id       username  \\\n",
       "0          1        1   brandtandrea   \n",
       "1          2        1     ryanfranco   \n",
       "2          3        2       lorichen   \n",
       "3          4        3  johnsonamanda   \n",
       "4          5        3    scotttamara   \n",
       "\n",
       "                                                text  \n",
       "0  Mention society tell send professor analysis. ...  \n",
       "1  Foot glass pretty audience hit themselves. Amo...  \n",
       "2  Listen treat keep worry. Miss husband tax but ...  \n",
       "3  Finally month interesting blue could nature cu...  \n",
       "4  Nation purpose heavy give wait song will. List...  "
      ]
     },
     "metadata": {},
     "output_type": "display_data"
    }
   ],
   "source": [
    "query = ''' SELECT *\n",
    "    FROM reviews\n",
    "            '''\n",
    "reviews = pd.io.sql.read_sql(query, con = engine)\n",
    "print(reviews.shape)\n",
    "display(reviews.head())"
   ]
  },
  {
   "cell_type": "markdown",
   "metadata": {},
   "source": [
    "We have 5 different tables that are all linked to books table via the respective identification numbers (the ids).They have all different lengths and have different numbers of columns and are divided into the 5 table names Books, Authors, Publishers, Ratings and Reviews."
   ]
  },
  {
   "cell_type": "markdown",
   "metadata": {},
   "source": [
    "+ Find the number of books released after January 1, 2000."
   ]
  },
  {
   "cell_type": "code",
   "execution_count": 8,
   "metadata": {},
   "outputs": [
    {
     "data": {
      "text/html": [
       "<div>\n",
       "<style scoped>\n",
       "    .dataframe tbody tr th:only-of-type {\n",
       "        vertical-align: middle;\n",
       "    }\n",
       "\n",
       "    .dataframe tbody tr th {\n",
       "        vertical-align: top;\n",
       "    }\n",
       "\n",
       "    .dataframe thead th {\n",
       "        text-align: right;\n",
       "    }\n",
       "</style>\n",
       "<table border=\"1\" class=\"dataframe\">\n",
       "  <thead>\n",
       "    <tr style=\"text-align: right;\">\n",
       "      <th></th>\n",
       "      <th>cnt_books</th>\n",
       "    </tr>\n",
       "  </thead>\n",
       "  <tbody>\n",
       "    <tr>\n",
       "      <td>0</td>\n",
       "      <td>821</td>\n",
       "    </tr>\n",
       "  </tbody>\n",
       "</table>\n",
       "</div>"
      ],
      "text/plain": [
       "   cnt_books\n",
       "0        821"
      ]
     },
     "execution_count": 8,
     "metadata": {},
     "output_type": "execute_result"
    }
   ],
   "source": [
    "query = ''' SELECT COUNT(*) AS cnt_books\n",
    "    FROM books\n",
    "    WHERE publication_date >= '2000-01-01';\n",
    "            '''\n",
    "books_released_after_january = pd.io.sql.read_sql(query, con = engine)\n",
    "books_released_after_january"
   ]
  },
  {
   "cell_type": "markdown",
   "metadata": {},
   "source": [
    "We have a total of 821 books that were published from January 1, 2000 in our list.."
   ]
  },
  {
   "cell_type": "markdown",
   "metadata": {},
   "source": [
    "+ Find the number of user reviews and the average rating for each book."
   ]
  },
  {
   "cell_type": "code",
   "execution_count": 9,
   "metadata": {},
   "outputs": [
    {
     "data": {
      "text/html": [
       "<div>\n",
       "<style scoped>\n",
       "    .dataframe tbody tr th:only-of-type {\n",
       "        vertical-align: middle;\n",
       "    }\n",
       "\n",
       "    .dataframe tbody tr th {\n",
       "        vertical-align: top;\n",
       "    }\n",
       "\n",
       "    .dataframe thead th {\n",
       "        text-align: right;\n",
       "    }\n",
       "</style>\n",
       "<table border=\"1\" class=\"dataframe\">\n",
       "  <thead>\n",
       "    <tr style=\"text-align: right;\">\n",
       "      <th></th>\n",
       "      <th>number_reviews</th>\n",
       "      <th>avg_rating</th>\n",
       "    </tr>\n",
       "  </thead>\n",
       "  <tbody>\n",
       "    <tr>\n",
       "      <td>0</td>\n",
       "      <td>6456</td>\n",
       "      <td>3.928284</td>\n",
       "    </tr>\n",
       "  </tbody>\n",
       "</table>\n",
       "</div>"
      ],
      "text/plain": [
       "   number_reviews  avg_rating\n",
       "0            6456    3.928284"
      ]
     },
     "execution_count": 9,
     "metadata": {},
     "output_type": "execute_result"
    }
   ],
   "source": [
    "query = ''' SELECT COUNT(rating_id) AS number_reviews, AVG(rating) AS avg_rating\n",
    "    FROM ratings\n",
    "            '''\n",
    "n_reviews_avg_rating= pd.io.sql.read_sql(query, con = engine)\n",
    "n_reviews_avg_rating"
   ]
  },
  {
   "cell_type": "markdown",
   "metadata": {},
   "source": [
    "We have a total of 6456 user reviews and the average rating of 3.9 for each book."
   ]
  },
  {
   "cell_type": "code",
   "execution_count": 10,
   "metadata": {},
   "outputs": [
    {
     "data": {
      "text/html": [
       "<div>\n",
       "<style scoped>\n",
       "    .dataframe tbody tr th:only-of-type {\n",
       "        vertical-align: middle;\n",
       "    }\n",
       "\n",
       "    .dataframe tbody tr th {\n",
       "        vertical-align: top;\n",
       "    }\n",
       "\n",
       "    .dataframe thead th {\n",
       "        text-align: right;\n",
       "    }\n",
       "</style>\n",
       "<table border=\"1\" class=\"dataframe\">\n",
       "  <thead>\n",
       "    <tr style=\"text-align: right;\">\n",
       "      <th></th>\n",
       "      <th>title</th>\n",
       "      <th>reviews_cnt</th>\n",
       "      <th>avg_rating</th>\n",
       "    </tr>\n",
       "  </thead>\n",
       "  <tbody>\n",
       "    <tr>\n",
       "      <td>0</td>\n",
       "      <td>Twilight (Twilight  #1)</td>\n",
       "      <td>1120</td>\n",
       "      <td>3.662500</td>\n",
       "    </tr>\n",
       "    <tr>\n",
       "      <td>1</td>\n",
       "      <td>The Hobbit  or There and Back Again</td>\n",
       "      <td>528</td>\n",
       "      <td>4.125000</td>\n",
       "    </tr>\n",
       "    <tr>\n",
       "      <td>2</td>\n",
       "      <td>The Catcher in the Rye</td>\n",
       "      <td>516</td>\n",
       "      <td>3.825581</td>\n",
       "    </tr>\n",
       "    <tr>\n",
       "      <td>3</td>\n",
       "      <td>Harry Potter and the Prisoner of Azkaban (Harr...</td>\n",
       "      <td>492</td>\n",
       "      <td>4.414634</td>\n",
       "    </tr>\n",
       "    <tr>\n",
       "      <td>4</td>\n",
       "      <td>Harry Potter and the Chamber of Secrets (Harry...</td>\n",
       "      <td>480</td>\n",
       "      <td>4.287500</td>\n",
       "    </tr>\n",
       "    <tr>\n",
       "      <td>...</td>\n",
       "      <td>...</td>\n",
       "      <td>...</td>\n",
       "      <td>...</td>\n",
       "    </tr>\n",
       "    <tr>\n",
       "      <td>988</td>\n",
       "      <td>The Adventures of Tom Sawyer and Adventures of...</td>\n",
       "      <td>2</td>\n",
       "      <td>5.000000</td>\n",
       "    </tr>\n",
       "    <tr>\n",
       "      <td>989</td>\n",
       "      <td>History of Beauty</td>\n",
       "      <td>2</td>\n",
       "      <td>2.500000</td>\n",
       "    </tr>\n",
       "    <tr>\n",
       "      <td>990</td>\n",
       "      <td>Lysistrata</td>\n",
       "      <td>2</td>\n",
       "      <td>4.000000</td>\n",
       "    </tr>\n",
       "    <tr>\n",
       "      <td>991</td>\n",
       "      <td>Executive Orders (Jack Ryan  #8)</td>\n",
       "      <td>2</td>\n",
       "      <td>3.500000</td>\n",
       "    </tr>\n",
       "    <tr>\n",
       "      <td>992</td>\n",
       "      <td>Dragons of Winter Night (Dragonlance: Chronicl...</td>\n",
       "      <td>2</td>\n",
       "      <td>4.000000</td>\n",
       "    </tr>\n",
       "  </tbody>\n",
       "</table>\n",
       "<p>993 rows × 3 columns</p>\n",
       "</div>"
      ],
      "text/plain": [
       "                                                 title  reviews_cnt  \\\n",
       "0                              Twilight (Twilight  #1)         1120   \n",
       "1                  The Hobbit  or There and Back Again          528   \n",
       "2                               The Catcher in the Rye          516   \n",
       "3    Harry Potter and the Prisoner of Azkaban (Harr...          492   \n",
       "4    Harry Potter and the Chamber of Secrets (Harry...          480   \n",
       "..                                                 ...          ...   \n",
       "988  The Adventures of Tom Sawyer and Adventures of...            2   \n",
       "989                                  History of Beauty            2   \n",
       "990                                         Lysistrata            2   \n",
       "991                   Executive Orders (Jack Ryan  #8)            2   \n",
       "992  Dragons of Winter Night (Dragonlance: Chronicl...            2   \n",
       "\n",
       "     avg_rating  \n",
       "0      3.662500  \n",
       "1      4.125000  \n",
       "2      3.825581  \n",
       "3      4.414634  \n",
       "4      4.287500  \n",
       "..          ...  \n",
       "988    5.000000  \n",
       "989    2.500000  \n",
       "990    4.000000  \n",
       "991    3.500000  \n",
       "992    4.000000  \n",
       "\n",
       "[993 rows x 3 columns]"
      ]
     },
     "execution_count": 10,
     "metadata": {},
     "output_type": "execute_result"
    }
   ],
   "source": [
    "query = ''' SELECT books.title,COUNT(reviews.review_id) AS reviews_cnt, AVG(ratings.rating) AS avg_rating\n",
    "    FROM books \n",
    "    INNER JOIN ratings ON ratings.book_id = books.book_id\n",
    "    INNER JOIN reviews ON reviews.book_id = books.book_id\n",
    "    GROUP BY books.title\n",
    "    ORDER BY reviews_cnt DESC;\n",
    "            '''\n",
    "title_n_reviews_avg_rating= pd.io.sql.read_sql(query, con = engine)\n",
    "title_n_reviews_avg_rating"
   ]
  },
  {
   "cell_type": "markdown",
   "metadata": {},
   "source": [
    "Twilight is the book that has the most reviews with 1120."
   ]
  },
  {
   "cell_type": "markdown",
   "metadata": {},
   "source": [
    "+ Identify the publisher that has released the greatest number of books with more than 50 pages (this will help you exclude brochures and similar publications from your analysis)."
   ]
  },
  {
   "cell_type": "code",
   "execution_count": 11,
   "metadata": {},
   "outputs": [
    {
     "data": {
      "text/html": [
       "<div>\n",
       "<style scoped>\n",
       "    .dataframe tbody tr th:only-of-type {\n",
       "        vertical-align: middle;\n",
       "    }\n",
       "\n",
       "    .dataframe tbody tr th {\n",
       "        vertical-align: top;\n",
       "    }\n",
       "\n",
       "    .dataframe thead th {\n",
       "        text-align: right;\n",
       "    }\n",
       "</style>\n",
       "<table border=\"1\" class=\"dataframe\">\n",
       "  <thead>\n",
       "    <tr style=\"text-align: right;\">\n",
       "      <th></th>\n",
       "      <th>publisher</th>\n",
       "      <th>num_pages</th>\n",
       "    </tr>\n",
       "  </thead>\n",
       "  <tbody>\n",
       "    <tr>\n",
       "      <td>0</td>\n",
       "      <td>City Lights</td>\n",
       "      <td>56</td>\n",
       "    </tr>\n",
       "    <tr>\n",
       "      <td>1</td>\n",
       "      <td>Listening Library (Audio)</td>\n",
       "      <td>61</td>\n",
       "    </tr>\n",
       "    <tr>\n",
       "      <td>2</td>\n",
       "      <td>HarperCollinsChildren’sBooks</td>\n",
       "      <td>62</td>\n",
       "    </tr>\n",
       "    <tr>\n",
       "      <td>3</td>\n",
       "      <td>Random House Books for Young Readers</td>\n",
       "      <td>64</td>\n",
       "    </tr>\n",
       "    <tr>\n",
       "      <td>4</td>\n",
       "      <td>Dover Publications</td>\n",
       "      <td>64</td>\n",
       "    </tr>\n",
       "    <tr>\n",
       "      <td>...</td>\n",
       "      <td>...</td>\n",
       "      <td>...</td>\n",
       "    </tr>\n",
       "    <tr>\n",
       "      <td>987</td>\n",
       "      <td>Andrews McMeel Publishing</td>\n",
       "      <td>1456</td>\n",
       "    </tr>\n",
       "    <tr>\n",
       "      <td>988</td>\n",
       "      <td>Penguin Classics</td>\n",
       "      <td>1556</td>\n",
       "    </tr>\n",
       "    <tr>\n",
       "      <td>989</td>\n",
       "      <td>Ballantine Books</td>\n",
       "      <td>1728</td>\n",
       "    </tr>\n",
       "    <tr>\n",
       "      <td>990</td>\n",
       "      <td>Starfire</td>\n",
       "      <td>2088</td>\n",
       "    </tr>\n",
       "    <tr>\n",
       "      <td>991</td>\n",
       "      <td>Scholastic</td>\n",
       "      <td>2690</td>\n",
       "    </tr>\n",
       "  </tbody>\n",
       "</table>\n",
       "<p>992 rows × 2 columns</p>\n",
       "</div>"
      ],
      "text/plain": [
       "                                publisher  num_pages\n",
       "0                             City Lights         56\n",
       "1               Listening Library (Audio)         61\n",
       "2            HarperCollinsChildren’sBooks         62\n",
       "3    Random House Books for Young Readers         64\n",
       "4                      Dover Publications         64\n",
       "..                                    ...        ...\n",
       "987             Andrews McMeel Publishing       1456\n",
       "988                      Penguin Classics       1556\n",
       "989                      Ballantine Books       1728\n",
       "990                              Starfire       2088\n",
       "991                            Scholastic       2690\n",
       "\n",
       "[992 rows x 2 columns]"
      ]
     },
     "execution_count": 11,
     "metadata": {},
     "output_type": "execute_result"
    }
   ],
   "source": [
    "query = ''' SELECT publishers.publisher AS publisher, books.num_pages AS num_pages \n",
    "    FROM books\n",
    "    INNER JOIN publishers ON publishers.publisher_id = books.publisher_id\n",
    "    WHERE books.num_pages >=50\n",
    "    ORDER BY num_pages;\n",
    "            '''\n",
    "publisher_more_than_50_pages= pd.io.sql.read_sql(query, con = engine)\n",
    "publisher_more_than_50_pages"
   ]
  },
  {
   "cell_type": "code",
   "execution_count": 12,
   "metadata": {},
   "outputs": [
    {
     "data": {
      "text/html": [
       "<div>\n",
       "<style scoped>\n",
       "    .dataframe tbody tr th:only-of-type {\n",
       "        vertical-align: middle;\n",
       "    }\n",
       "\n",
       "    .dataframe tbody tr th {\n",
       "        vertical-align: top;\n",
       "    }\n",
       "\n",
       "    .dataframe thead th {\n",
       "        text-align: right;\n",
       "    }\n",
       "</style>\n",
       "<table border=\"1\" class=\"dataframe\">\n",
       "  <thead>\n",
       "    <tr style=\"text-align: right;\">\n",
       "      <th></th>\n",
       "      <th>publisher_id_uniq_cnt</th>\n",
       "    </tr>\n",
       "  </thead>\n",
       "  <tbody>\n",
       "    <tr>\n",
       "      <td>0</td>\n",
       "      <td>334</td>\n",
       "    </tr>\n",
       "  </tbody>\n",
       "</table>\n",
       "</div>"
      ],
      "text/plain": [
       "   publisher_id_uniq_cnt\n",
       "0                    334"
      ]
     },
     "execution_count": 12,
     "metadata": {},
     "output_type": "execute_result"
    }
   ],
   "source": [
    "query = ''' SELECT COUNT(DISTINCT publishers.publisher_id) AS publisher_id_uniq_cnt \n",
    "    FROM books\n",
    "    INNER JOIN publishers ON publishers.publisher_id = books.publisher_id\n",
    "    WHERE books.num_pages >=50;\n",
    "            '''\n",
    "nunique_publisher_more_than_50_pages= pd.io.sql.read_sql(query, con = engine)\n",
    "nunique_publisher_more_than_50_pages"
   ]
  },
  {
   "cell_type": "markdown",
   "metadata": {},
   "source": [
    "Here we have the publishers of books that have more than 50 pages in total we have 992 books that have more than 50 pages and a number of 334 different book publishers who have published these 992 books in this group. The book with the smallest number of pages in this list has 50 and the book with the largest number of pages has 2690 pages. But now we want to know which of the 334s is represented by most of the books."
   ]
  },
  {
   "cell_type": "code",
   "execution_count": 13,
   "metadata": {},
   "outputs": [
    {
     "data": {
      "text/html": [
       "<div>\n",
       "<style scoped>\n",
       "    .dataframe tbody tr th:only-of-type {\n",
       "        vertical-align: middle;\n",
       "    }\n",
       "\n",
       "    .dataframe tbody tr th {\n",
       "        vertical-align: top;\n",
       "    }\n",
       "\n",
       "    .dataframe thead th {\n",
       "        text-align: right;\n",
       "    }\n",
       "</style>\n",
       "<table border=\"1\" class=\"dataframe\">\n",
       "  <thead>\n",
       "    <tr style=\"text-align: right;\">\n",
       "      <th></th>\n",
       "      <th>publisher</th>\n",
       "      <th>cnt</th>\n",
       "    </tr>\n",
       "  </thead>\n",
       "  <tbody>\n",
       "    <tr>\n",
       "      <td>329</td>\n",
       "      <td>Ballantine Books</td>\n",
       "      <td>19</td>\n",
       "    </tr>\n",
       "    <tr>\n",
       "      <td>330</td>\n",
       "      <td>Penguin Classics</td>\n",
       "      <td>24</td>\n",
       "    </tr>\n",
       "    <tr>\n",
       "      <td>331</td>\n",
       "      <td>Grand Central Publishing</td>\n",
       "      <td>25</td>\n",
       "    </tr>\n",
       "    <tr>\n",
       "      <td>332</td>\n",
       "      <td>Vintage</td>\n",
       "      <td>31</td>\n",
       "    </tr>\n",
       "    <tr>\n",
       "      <td>333</td>\n",
       "      <td>Penguin Books</td>\n",
       "      <td>42</td>\n",
       "    </tr>\n",
       "  </tbody>\n",
       "</table>\n",
       "</div>"
      ],
      "text/plain": [
       "                    publisher  cnt\n",
       "329          Ballantine Books   19\n",
       "330          Penguin Classics   24\n",
       "331  Grand Central Publishing   25\n",
       "332                   Vintage   31\n",
       "333             Penguin Books   42"
      ]
     },
     "execution_count": 13,
     "metadata": {},
     "output_type": "execute_result"
    }
   ],
   "source": [
    "query = ''' SELECT publishers.publisher AS publisher, COUNT(publishers.publisher_id) AS cnt \n",
    "    FROM books\n",
    "    INNER JOIN publishers ON publishers.publisher_id = books.publisher_id\n",
    "    WHERE books.num_pages >=50\n",
    "    GROUP BY publishers.publisher\n",
    "    ORDER BY cnt ASC;\n",
    "            '''\n",
    "greatest_publisher_more_than_50_pages= pd.io.sql.read_sql(query, con = engine)\n",
    "greatest_publisher_more_than_50_pages.tail()"
   ]
  },
  {
   "cell_type": "code",
   "execution_count": 14,
   "metadata": {},
   "outputs": [
    {
     "data": {
      "text/html": [
       "<div>\n",
       "<style scoped>\n",
       "    .dataframe tbody tr th:only-of-type {\n",
       "        vertical-align: middle;\n",
       "    }\n",
       "\n",
       "    .dataframe tbody tr th {\n",
       "        vertical-align: top;\n",
       "    }\n",
       "\n",
       "    .dataframe thead th {\n",
       "        text-align: right;\n",
       "    }\n",
       "</style>\n",
       "<table border=\"1\" class=\"dataframe\">\n",
       "  <thead>\n",
       "    <tr style=\"text-align: right;\">\n",
       "      <th></th>\n",
       "      <th>publisher</th>\n",
       "      <th>cnt</th>\n",
       "    </tr>\n",
       "  </thead>\n",
       "  <tbody>\n",
       "    <tr>\n",
       "      <td>0</td>\n",
       "      <td>Alfred A. Knopf Borzoi Books</td>\n",
       "      <td>1</td>\n",
       "    </tr>\n",
       "    <tr>\n",
       "      <td>1</td>\n",
       "      <td>Arthur A. Levine Books / Scholastic Inc.</td>\n",
       "      <td>1</td>\n",
       "    </tr>\n",
       "    <tr>\n",
       "      <td>2</td>\n",
       "      <td>Dante University of America Press</td>\n",
       "      <td>1</td>\n",
       "    </tr>\n",
       "    <tr>\n",
       "      <td>3</td>\n",
       "      <td>Red Fox</td>\n",
       "      <td>1</td>\n",
       "    </tr>\n",
       "    <tr>\n",
       "      <td>4</td>\n",
       "      <td>Citadel</td>\n",
       "      <td>1</td>\n",
       "    </tr>\n",
       "    <tr>\n",
       "      <td>...</td>\n",
       "      <td>...</td>\n",
       "      <td>...</td>\n",
       "    </tr>\n",
       "    <tr>\n",
       "      <td>329</td>\n",
       "      <td>Ballantine Books</td>\n",
       "      <td>19</td>\n",
       "    </tr>\n",
       "    <tr>\n",
       "      <td>330</td>\n",
       "      <td>Penguin Classics</td>\n",
       "      <td>24</td>\n",
       "    </tr>\n",
       "    <tr>\n",
       "      <td>331</td>\n",
       "      <td>Grand Central Publishing</td>\n",
       "      <td>25</td>\n",
       "    </tr>\n",
       "    <tr>\n",
       "      <td>332</td>\n",
       "      <td>Vintage</td>\n",
       "      <td>31</td>\n",
       "    </tr>\n",
       "    <tr>\n",
       "      <td>333</td>\n",
       "      <td>Penguin Books</td>\n",
       "      <td>42</td>\n",
       "    </tr>\n",
       "  </tbody>\n",
       "</table>\n",
       "<p>334 rows × 2 columns</p>\n",
       "</div>"
      ],
      "text/plain": [
       "                                    publisher  cnt\n",
       "0                Alfred A. Knopf Borzoi Books    1\n",
       "1    Arthur A. Levine Books / Scholastic Inc.    1\n",
       "2           Dante University of America Press    1\n",
       "3                                     Red Fox    1\n",
       "4                                     Citadel    1\n",
       "..                                        ...  ...\n",
       "329                          Ballantine Books   19\n",
       "330                          Penguin Classics   24\n",
       "331                  Grand Central Publishing   25\n",
       "332                                   Vintage   31\n",
       "333                             Penguin Books   42\n",
       "\n",
       "[334 rows x 2 columns]"
      ]
     },
     "execution_count": 14,
     "metadata": {},
     "output_type": "execute_result"
    }
   ],
   "source": [
    "greatest_publisher_more_than_50_pages"
   ]
  },
  {
   "cell_type": "markdown",
   "metadata": {},
   "source": [
    "With 42 books, Penguin Books is the largest publisher for books over 50 pages in our list followed by Vintage with 31 books."
   ]
  },
  {
   "cell_type": "markdown",
   "metadata": {},
   "source": [
    "+ Identify the author with the highest average book rating: look only at books with at least 50 ratings."
   ]
  },
  {
   "cell_type": "code",
   "execution_count": 15,
   "metadata": {},
   "outputs": [
    {
     "data": {
      "text/html": [
       "<div>\n",
       "<style scoped>\n",
       "    .dataframe tbody tr th:only-of-type {\n",
       "        vertical-align: middle;\n",
       "    }\n",
       "\n",
       "    .dataframe tbody tr th {\n",
       "        vertical-align: top;\n",
       "    }\n",
       "\n",
       "    .dataframe thead th {\n",
       "        text-align: right;\n",
       "    }\n",
       "</style>\n",
       "<table border=\"1\" class=\"dataframe\">\n",
       "  <thead>\n",
       "    <tr style=\"text-align: right;\">\n",
       "      <th></th>\n",
       "      <th>author</th>\n",
       "      <th>cnt_rating</th>\n",
       "      <th>avg_rating</th>\n",
       "    </tr>\n",
       "  </thead>\n",
       "  <tbody>\n",
       "    <tr>\n",
       "      <td>0</td>\n",
       "      <td>John Steinbeck</td>\n",
       "      <td>73</td>\n",
       "      <td>3.643836</td>\n",
       "    </tr>\n",
       "    <tr>\n",
       "      <td>1</td>\n",
       "      <td>Stephenie Meyer</td>\n",
       "      <td>160</td>\n",
       "      <td>3.662500</td>\n",
       "    </tr>\n",
       "    <tr>\n",
       "      <td>2</td>\n",
       "      <td>George Orwell/Boris Grabnar/Peter Škerl</td>\n",
       "      <td>74</td>\n",
       "      <td>3.729730</td>\n",
       "    </tr>\n",
       "    <tr>\n",
       "      <td>3</td>\n",
       "      <td>Lois Lowry</td>\n",
       "      <td>65</td>\n",
       "      <td>3.738462</td>\n",
       "    </tr>\n",
       "    <tr>\n",
       "      <td>4</td>\n",
       "      <td>Dan Brown</td>\n",
       "      <td>143</td>\n",
       "      <td>3.741259</td>\n",
       "    </tr>\n",
       "    <tr>\n",
       "      <td>5</td>\n",
       "      <td>William Shakespeare/Paul Werstine/Barbara A. M...</td>\n",
       "      <td>66</td>\n",
       "      <td>3.787879</td>\n",
       "    </tr>\n",
       "    <tr>\n",
       "      <td>6</td>\n",
       "      <td>Paulo Coelho/Alan R. Clarke/Özdemir İnce</td>\n",
       "      <td>57</td>\n",
       "      <td>3.789474</td>\n",
       "    </tr>\n",
       "    <tr>\n",
       "      <td>7</td>\n",
       "      <td>J.D. Salinger</td>\n",
       "      <td>98</td>\n",
       "      <td>3.846939</td>\n",
       "    </tr>\n",
       "    <tr>\n",
       "      <td>8</td>\n",
       "      <td>James Patterson</td>\n",
       "      <td>64</td>\n",
       "      <td>3.859375</td>\n",
       "    </tr>\n",
       "    <tr>\n",
       "      <td>9</td>\n",
       "      <td>Sophie Kinsella</td>\n",
       "      <td>57</td>\n",
       "      <td>3.877193</td>\n",
       "    </tr>\n",
       "    <tr>\n",
       "      <td>10</td>\n",
       "      <td>Jodi Picoult</td>\n",
       "      <td>76</td>\n",
       "      <td>3.881579</td>\n",
       "    </tr>\n",
       "    <tr>\n",
       "      <td>11</td>\n",
       "      <td>Nicholas Sparks</td>\n",
       "      <td>111</td>\n",
       "      <td>3.882883</td>\n",
       "    </tr>\n",
       "    <tr>\n",
       "      <td>12</td>\n",
       "      <td>William Golding</td>\n",
       "      <td>71</td>\n",
       "      <td>3.901408</td>\n",
       "    </tr>\n",
       "    <tr>\n",
       "      <td>13</td>\n",
       "      <td>John Grisham</td>\n",
       "      <td>70</td>\n",
       "      <td>3.971429</td>\n",
       "    </tr>\n",
       "    <tr>\n",
       "      <td>14</td>\n",
       "      <td>Stephen King</td>\n",
       "      <td>106</td>\n",
       "      <td>4.009434</td>\n",
       "    </tr>\n",
       "    <tr>\n",
       "      <td>15</td>\n",
       "      <td>Arthur Golden</td>\n",
       "      <td>56</td>\n",
       "      <td>4.107143</td>\n",
       "    </tr>\n",
       "    <tr>\n",
       "      <td>16</td>\n",
       "      <td>Rick Riordan</td>\n",
       "      <td>84</td>\n",
       "      <td>4.130952</td>\n",
       "    </tr>\n",
       "    <tr>\n",
       "      <td>17</td>\n",
       "      <td>Louisa May Alcott</td>\n",
       "      <td>54</td>\n",
       "      <td>4.203704</td>\n",
       "    </tr>\n",
       "    <tr>\n",
       "      <td>18</td>\n",
       "      <td>Roald Dahl/Quentin Blake</td>\n",
       "      <td>62</td>\n",
       "      <td>4.209677</td>\n",
       "    </tr>\n",
       "    <tr>\n",
       "      <td>19</td>\n",
       "      <td>J.R.R. Tolkien</td>\n",
       "      <td>166</td>\n",
       "      <td>4.240964</td>\n",
       "    </tr>\n",
       "    <tr>\n",
       "      <td>20</td>\n",
       "      <td>Markus Zusak/Cao Xuân Việt Khương</td>\n",
       "      <td>53</td>\n",
       "      <td>4.264151</td>\n",
       "    </tr>\n",
       "    <tr>\n",
       "      <td>21</td>\n",
       "      <td>Agatha Christie</td>\n",
       "      <td>53</td>\n",
       "      <td>4.283019</td>\n",
       "    </tr>\n",
       "    <tr>\n",
       "      <td>22</td>\n",
       "      <td>J.K. Rowling/Mary GrandPré</td>\n",
       "      <td>312</td>\n",
       "      <td>4.288462</td>\n",
       "    </tr>\n",
       "    <tr>\n",
       "      <td>23</td>\n",
       "      <td>Diana Gabaldon</td>\n",
       "      <td>50</td>\n",
       "      <td>4.300000</td>\n",
       "    </tr>\n",
       "  </tbody>\n",
       "</table>\n",
       "</div>"
      ],
      "text/plain": [
       "                                               author  cnt_rating  avg_rating\n",
       "0                                      John Steinbeck          73    3.643836\n",
       "1                                     Stephenie Meyer         160    3.662500\n",
       "2             George Orwell/Boris Grabnar/Peter Škerl          74    3.729730\n",
       "3                                          Lois Lowry          65    3.738462\n",
       "4                                           Dan Brown         143    3.741259\n",
       "5   William Shakespeare/Paul Werstine/Barbara A. M...          66    3.787879\n",
       "6            Paulo Coelho/Alan R. Clarke/Özdemir İnce          57    3.789474\n",
       "7                                       J.D. Salinger          98    3.846939\n",
       "8                                     James Patterson          64    3.859375\n",
       "9                                     Sophie Kinsella          57    3.877193\n",
       "10                                       Jodi Picoult          76    3.881579\n",
       "11                                    Nicholas Sparks         111    3.882883\n",
       "12                                    William Golding          71    3.901408\n",
       "13                                       John Grisham          70    3.971429\n",
       "14                                       Stephen King         106    4.009434\n",
       "15                                      Arthur Golden          56    4.107143\n",
       "16                                       Rick Riordan          84    4.130952\n",
       "17                                  Louisa May Alcott          54    4.203704\n",
       "18                           Roald Dahl/Quentin Blake          62    4.209677\n",
       "19                                     J.R.R. Tolkien         166    4.240964\n",
       "20                  Markus Zusak/Cao Xuân Việt Khương          53    4.264151\n",
       "21                                    Agatha Christie          53    4.283019\n",
       "22                         J.K. Rowling/Mary GrandPré         312    4.288462\n",
       "23                                     Diana Gabaldon          50    4.300000"
      ]
     },
     "execution_count": 15,
     "metadata": {},
     "output_type": "execute_result"
    }
   ],
   "source": [
    "query = ''' SELECT *\n",
    "FROM\n",
    "(SELECT  authors.author AS author, COUNT(ratings.rating) AS cnt_rating,AVG(ratings.rating) AS avg_rating\n",
    "    FROM books\n",
    "    INNER JOIN authors ON authors.author_id = books.author_id\n",
    "    INNER JOIN ratings ON ratings.book_id = books.book_id\n",
    "    GROUP BY authors.author\n",
    "    ORDER BY avg_rating ASC) AS Sub\n",
    "    WHERE Sub.cnt_rating >=50\n",
    "            '''\n",
    "n_avg_rating= pd.io.sql.read_sql(query, con = engine)\n",
    "n_avg_rating"
   ]
  },
  {
   "cell_type": "markdown",
   "metadata": {},
   "source": [
    "We have selected the authors who have had over 50 reviews. J.K. Rowling / Mary GrandPré achieved the second best rating in this group with 312 ratings (the highest rating number in this group) and an average a rating of 4,288462. The best rating who was managed to achieve for at least 50 ratings was 4.3\n",
    "Diana Gabaldon received it and was rated exactly 50 times. John Steinbeck received the worst rating with a number of 73 ratings and a score of 3.643836."
   ]
  },
  {
   "cell_type": "markdown",
   "metadata": {},
   "source": [
    "+ Find the average number of text reviews among users who rated more than 50 books."
   ]
  },
  {
   "cell_type": "code",
   "execution_count": 16,
   "metadata": {},
   "outputs": [
    {
     "data": {
      "text/html": [
       "<div>\n",
       "<style scoped>\n",
       "    .dataframe tbody tr th:only-of-type {\n",
       "        vertical-align: middle;\n",
       "    }\n",
       "\n",
       "    .dataframe tbody tr th {\n",
       "        vertical-align: top;\n",
       "    }\n",
       "\n",
       "    .dataframe thead th {\n",
       "        text-align: right;\n",
       "    }\n",
       "</style>\n",
       "<table border=\"1\" class=\"dataframe\">\n",
       "  <thead>\n",
       "    <tr style=\"text-align: right;\">\n",
       "      <th></th>\n",
       "      <th>avg_text_reviews</th>\n",
       "    </tr>\n",
       "  </thead>\n",
       "  <tbody>\n",
       "    <tr>\n",
       "      <td>0</td>\n",
       "      <td>208.037383</td>\n",
       "    </tr>\n",
       "  </tbody>\n",
       "</table>\n",
       "</div>"
      ],
      "text/plain": [
       "   avg_text_reviews\n",
       "0        208.037383"
      ]
     },
     "execution_count": 16,
     "metadata": {},
     "output_type": "execute_result"
    }
   ],
   "source": [
    "query = '''SELECT AVG(sub.number_of_text_reviews) AS avg_text_reviews\n",
    "FROM\n",
    "(SELECT reviews.username,COUNT(reviews.text) AS number_of_text_reviews \n",
    "    FROM books\n",
    "    INNER JOIN ratings ON ratings.book_id = books.publisher_id\n",
    "    LEFT JOIN reviews ON reviews.book_id = books.publisher_id\n",
    "    GROUP BY reviews.username) AS sub\n",
    "    WHERE sub.number_of_text_reviews >=50\n",
    "            '''\n",
    "avg_text_reviews_more_than_50_books= pd.io.sql.read_sql(query, con = engine)\n",
    "avg_text_reviews_more_than_50_books.tail()"
   ]
  },
  {
   "cell_type": "markdown",
   "metadata": {},
   "source": [
    "Among all the reviewers, we have an average of a number of 208 test reviews from the users that have rated more than 50 books."
   ]
  },
  {
   "cell_type": "code",
   "execution_count": 17,
   "metadata": {},
   "outputs": [
    {
     "data": {
      "text/html": [
       "<div>\n",
       "<style scoped>\n",
       "    .dataframe tbody tr th:only-of-type {\n",
       "        vertical-align: middle;\n",
       "    }\n",
       "\n",
       "    .dataframe tbody tr th {\n",
       "        vertical-align: top;\n",
       "    }\n",
       "\n",
       "    .dataframe thead th {\n",
       "        text-align: right;\n",
       "    }\n",
       "</style>\n",
       "<table border=\"1\" class=\"dataframe\">\n",
       "  <thead>\n",
       "    <tr style=\"text-align: right;\">\n",
       "      <th></th>\n",
       "      <th>username</th>\n",
       "      <th>avg_text</th>\n",
       "    </tr>\n",
       "  </thead>\n",
       "  <tbody>\n",
       "    <tr>\n",
       "      <td>102</td>\n",
       "      <td>yvasquez</td>\n",
       "      <td>68.0</td>\n",
       "    </tr>\n",
       "    <tr>\n",
       "      <td>103</td>\n",
       "      <td>yweeks</td>\n",
       "      <td>614.0</td>\n",
       "    </tr>\n",
       "    <tr>\n",
       "      <td>104</td>\n",
       "      <td>zjohnston</td>\n",
       "      <td>320.0</td>\n",
       "    </tr>\n",
       "    <tr>\n",
       "      <td>105</td>\n",
       "      <td>znelson</td>\n",
       "      <td>162.0</td>\n",
       "    </tr>\n",
       "    <tr>\n",
       "      <td>106</td>\n",
       "      <td>zross</td>\n",
       "      <td>650.0</td>\n",
       "    </tr>\n",
       "  </tbody>\n",
       "</table>\n",
       "</div>"
      ],
      "text/plain": [
       "      username  avg_text\n",
       "102   yvasquez      68.0\n",
       "103     yweeks     614.0\n",
       "104  zjohnston     320.0\n",
       "105    znelson     162.0\n",
       "106      zross     650.0"
      ]
     },
     "execution_count": 17,
     "metadata": {},
     "output_type": "execute_result"
    }
   ],
   "source": [
    "query = '''SELECT sub.username AS username,AVG(sub.number_of_text_reviews) AS avg_text\n",
    "FROM\n",
    "(SELECT reviews.username,COUNT(reviews.text) AS number_of_text_reviews \n",
    "    FROM books\n",
    "    INNER JOIN ratings ON ratings.book_id = books.publisher_id\n",
    "    LEFT JOIN reviews ON reviews.book_id = books.publisher_id\n",
    "    GROUP BY reviews.username) AS sub\n",
    "    WHERE sub.number_of_text_reviews >=50\n",
    "    GROUP BY sub.username\n",
    "            '''\n",
    "by_user_avg_text_reviews_more_than_50_books= pd.io.sql.read_sql(query, con = engine)\n",
    "by_user_avg_text_reviews_more_than_50_books.tail()"
   ]
  },
  {
   "cell_type": "markdown",
   "metadata": {},
   "source": [
    "Among the users, we have different average numbers for test reviews from the users that have rated more than 50 books.\n",
    "Here zross has the bigges number of average test reviews with a total number 650 text reviews."
   ]
  },
  {
   "cell_type": "code",
   "execution_count": 18,
   "metadata": {},
   "outputs": [
    {
     "data": {
      "text/html": [
       "<div>\n",
       "<style scoped>\n",
       "    .dataframe tbody tr th:only-of-type {\n",
       "        vertical-align: middle;\n",
       "    }\n",
       "\n",
       "    .dataframe tbody tr th {\n",
       "        vertical-align: top;\n",
       "    }\n",
       "\n",
       "    .dataframe thead th {\n",
       "        text-align: right;\n",
       "    }\n",
       "</style>\n",
       "<table border=\"1\" class=\"dataframe\">\n",
       "  <thead>\n",
       "    <tr style=\"text-align: right;\">\n",
       "      <th></th>\n",
       "      <th>username</th>\n",
       "      <th>user_reviews</th>\n",
       "    </tr>\n",
       "  </thead>\n",
       "  <tbody>\n",
       "    <tr>\n",
       "      <td>155</td>\n",
       "      <td>shermannatalie</td>\n",
       "      <td>24</td>\n",
       "    </tr>\n",
       "    <tr>\n",
       "      <td>156</td>\n",
       "      <td>dmiller</td>\n",
       "      <td>18</td>\n",
       "    </tr>\n",
       "    <tr>\n",
       "      <td>157</td>\n",
       "      <td>charlesraymond</td>\n",
       "      <td>16</td>\n",
       "    </tr>\n",
       "    <tr>\n",
       "      <td>158</td>\n",
       "      <td>isaiahreyes</td>\n",
       "      <td>15</td>\n",
       "    </tr>\n",
       "    <tr>\n",
       "      <td>159</td>\n",
       "      <td>masonsara</td>\n",
       "      <td>14</td>\n",
       "    </tr>\n",
       "  </tbody>\n",
       "</table>\n",
       "</div>"
      ],
      "text/plain": [
       "           username  user_reviews\n",
       "155  shermannatalie            24\n",
       "156         dmiller            18\n",
       "157  charlesraymond            16\n",
       "158     isaiahreyes            15\n",
       "159       masonsara            14"
      ]
     },
     "execution_count": 18,
     "metadata": {},
     "output_type": "execute_result"
    }
   ],
   "source": [
    "query = '''SELECT reviews.username,COUNT(reviews.review_id) AS user_reviews \n",
    "    FROM reviews\n",
    "    GROUP BY username\n",
    "            '''\n",
    "avg_num_reviews_more_than_50_books= pd.io.sql.read_sql(query, con = engine)\n",
    "avg_num_reviews_more_than_50_books.tail()"
   ]
  },
  {
   "cell_type": "code",
   "execution_count": 19,
   "metadata": {},
   "outputs": [
    {
     "data": {
      "text/html": [
       "<div>\n",
       "<style scoped>\n",
       "    .dataframe tbody tr th:only-of-type {\n",
       "        vertical-align: middle;\n",
       "    }\n",
       "\n",
       "    .dataframe tbody tr th {\n",
       "        vertical-align: top;\n",
       "    }\n",
       "\n",
       "    .dataframe thead th {\n",
       "        text-align: right;\n",
       "    }\n",
       "</style>\n",
       "<table border=\"1\" class=\"dataframe\">\n",
       "  <thead>\n",
       "    <tr style=\"text-align: right;\">\n",
       "      <th></th>\n",
       "      <th>avg_text_reviews</th>\n",
       "    </tr>\n",
       "  </thead>\n",
       "  <tbody>\n",
       "    <tr>\n",
       "      <td>0</td>\n",
       "      <td>17</td>\n",
       "    </tr>\n",
       "  </tbody>\n",
       "</table>\n",
       "</div>"
      ],
      "text/plain": [
       "   avg_text_reviews\n",
       "0                17"
      ]
     },
     "execution_count": 19,
     "metadata": {},
     "output_type": "execute_result"
    }
   ],
   "source": [
    "query = '''SELECT AVG(sub.user_reviews)::integer AS avg_text_reviews\n",
    "FROM\n",
    "(SELECT username,COUNT(review_id) AS user_reviews \n",
    "    FROM reviews\n",
    "    GROUP BY username) AS sub\n",
    "            '''\n",
    "avg_num_reviews_more_than_50_books= pd.io.sql.read_sql(query, con = engine)\n",
    "avg_num_reviews_more_than_50_books.tail()"
   ]
  },
  {
   "cell_type": "markdown",
   "metadata": {},
   "source": [
    "Here are only values below 50 book review...if I take the average here, I only get 17. Without (WHERE sub.user_reviews >= 50) who have rated more than 50 books."
   ]
  },
  {
   "cell_type": "code",
   "execution_count": 20,
   "metadata": {},
   "outputs": [
    {
     "data": {
      "text/html": [
       "<div>\n",
       "<style scoped>\n",
       "    .dataframe tbody tr th:only-of-type {\n",
       "        vertical-align: middle;\n",
       "    }\n",
       "\n",
       "    .dataframe tbody tr th {\n",
       "        vertical-align: top;\n",
       "    }\n",
       "\n",
       "    .dataframe thead th {\n",
       "        text-align: right;\n",
       "    }\n",
       "</style>\n",
       "<table border=\"1\" class=\"dataframe\">\n",
       "  <thead>\n",
       "    <tr style=\"text-align: right;\">\n",
       "      <th></th>\n",
       "      <th>average_review_cnt</th>\n",
       "    </tr>\n",
       "  </thead>\n",
       "  <tbody>\n",
       "    <tr>\n",
       "      <td>0</td>\n",
       "      <td>24.0</td>\n",
       "    </tr>\n",
       "  </tbody>\n",
       "</table>\n",
       "</div>"
      ],
      "text/plain": [
       "   average_review_cnt\n",
       "0                24.0"
      ]
     },
     "execution_count": 20,
     "metadata": {},
     "output_type": "execute_result"
    }
   ],
   "source": [
    "query = '''SELECT ROUND(AVG(subq.review_cnt)) as average_review_cnt\n",
    "FROM\n",
    "(SELECT username, \n",
    "COUNT(text) AS review_cnt\n",
    "FROM reviews WHERE username IN\n",
    "(SELECT ratings.username \n",
    "FROM ratings \n",
    "GROUP BY ratings.username\n",
    "HAVING COUNT(ratings.rating) > 50)\n",
    "GROUP BY username) AS subq\n",
    "            '''\n",
    "avg_num_reviews_more_than_50_books= pd.io.sql.read_sql(query, con = engine)\n",
    "avg_num_reviews_more_than_50_books.tail()"
   ]
  },
  {
   "cell_type": "markdown",
   "metadata": {},
   "source": [
    "We have an average of 24 text reviews from users who have given at least 50 reviews..."
   ]
  },
  {
   "cell_type": "markdown",
   "metadata": {},
   "source": [
    "**Short final conclusion:**\n",
    "\n",
    "We have been able to filter out some new information about the book market with which the startups can now adapt their app. Such as the number of Bückers from 2000 user reviews and the average rating for each book, etc.\n",
    "\n",
    "Back to the table of contents [click here](#table_of_contents)  "
   ]
  }
 ],
 "metadata": {
  "ExecuteTimeLog": [
   {
    "duration": 978,
    "start_time": "2021-08-24T11:56:19.627Z"
   },
   {
    "duration": 323,
    "start_time": "2021-08-24T11:56:49.911Z"
   },
   {
    "duration": 5,
    "start_time": "2021-08-24T12:43:00.443Z"
   },
   {
    "duration": 436,
    "start_time": "2021-08-24T12:43:09.218Z"
   },
   {
    "duration": 314,
    "start_time": "2021-08-24T12:43:18.529Z"
   },
   {
    "duration": 5,
    "start_time": "2021-08-24T12:45:11.909Z"
   },
   {
    "duration": 4,
    "start_time": "2021-08-24T12:45:21.855Z"
   },
   {
    "duration": 103,
    "start_time": "2021-08-24T13:12:41.537Z"
   },
   {
    "duration": 5,
    "start_time": "2021-08-24T13:12:47.810Z"
   },
   {
    "duration": 8,
    "start_time": "2021-08-24T13:12:50.189Z"
   },
   {
    "duration": 297,
    "start_time": "2021-08-24T13:12:54.629Z"
   },
   {
    "duration": 266,
    "start_time": "2021-08-24T13:28:00.022Z"
   },
   {
    "duration": 329,
    "start_time": "2021-08-24T13:28:56.146Z"
   },
   {
    "duration": 5,
    "start_time": "2021-08-24T13:29:14.392Z"
   },
   {
    "duration": 296,
    "start_time": "2021-08-24T13:34:32.058Z"
   },
   {
    "duration": 280,
    "start_time": "2021-08-24T13:34:49.550Z"
   },
   {
    "duration": 274,
    "start_time": "2021-08-24T13:35:06.068Z"
   },
   {
    "duration": 255,
    "start_time": "2021-08-24T13:35:10.849Z"
   },
   {
    "duration": 286,
    "start_time": "2021-08-24T13:35:23.885Z"
   },
   {
    "duration": 181,
    "start_time": "2021-08-24T13:35:43.555Z"
   },
   {
    "duration": 18,
    "start_time": "2021-08-24T13:35:51.801Z"
   },
   {
    "duration": 102,
    "start_time": "2021-08-24T13:36:00.605Z"
   },
   {
    "duration": 78,
    "start_time": "2021-08-24T13:36:44.632Z"
   },
   {
    "duration": 76,
    "start_time": "2021-08-24T13:36:50.231Z"
   },
   {
    "duration": 79,
    "start_time": "2021-08-24T13:36:58.504Z"
   },
   {
    "duration": 101,
    "start_time": "2021-08-24T13:37:02.295Z"
   },
   {
    "duration": 99,
    "start_time": "2021-08-24T13:42:41.309Z"
   },
   {
    "duration": 103,
    "start_time": "2021-08-24T13:43:36.242Z"
   },
   {
    "duration": 918,
    "start_time": "2021-08-24T13:44:57.866Z"
   },
   {
    "duration": 39,
    "start_time": "2021-08-24T13:44:58.787Z"
   },
   {
    "duration": 380,
    "start_time": "2021-08-24T13:44:58.829Z"
   },
   {
    "duration": -61,
    "start_time": "2021-08-24T13:44:59.273Z"
   },
   {
    "duration": -60,
    "start_time": "2021-08-24T13:44:59.274Z"
   },
   {
    "duration": -59,
    "start_time": "2021-08-24T13:44:59.275Z"
   },
   {
    "duration": 294,
    "start_time": "2021-08-24T13:46:35.085Z"
   },
   {
    "duration": 245,
    "start_time": "2021-08-24T13:47:12.986Z"
   },
   {
    "duration": 300,
    "start_time": "2021-08-24T13:47:43.770Z"
   },
   {
    "duration": 389,
    "start_time": "2021-08-24T13:47:57.360Z"
   },
   {
    "duration": 92,
    "start_time": "2021-08-24T13:52:57.592Z"
   },
   {
    "duration": 7,
    "start_time": "2021-08-24T13:53:39.208Z"
   },
   {
    "duration": 281,
    "start_time": "2021-08-24T14:01:50.767Z"
   },
   {
    "duration": 4,
    "start_time": "2021-08-24T14:02:22.294Z"
   },
   {
    "duration": 543,
    "start_time": "2021-08-24T14:02:25.670Z"
   },
   {
    "duration": 722,
    "start_time": "2021-08-24T14:02:36.760Z"
   },
   {
    "duration": 3,
    "start_time": "2021-08-24T14:02:54.847Z"
   },
   {
    "duration": 353,
    "start_time": "2021-08-24T14:02:55.509Z"
   },
   {
    "duration": 4,
    "start_time": "2021-08-24T14:03:24.355Z"
   },
   {
    "duration": 83,
    "start_time": "2021-08-24T14:03:24.923Z"
   },
   {
    "duration": 4,
    "start_time": "2021-08-24T14:03:45.369Z"
   },
   {
    "duration": 350,
    "start_time": "2021-08-24T14:03:45.817Z"
   },
   {
    "duration": 4,
    "start_time": "2021-08-24T14:04:00.772Z"
   },
   {
    "duration": 84,
    "start_time": "2021-08-24T14:04:08.155Z"
   },
   {
    "duration": 39,
    "start_time": "2021-08-24T14:04:47.034Z"
   },
   {
    "duration": 221,
    "start_time": "2021-08-24T14:05:08.908Z"
   },
   {
    "duration": 9,
    "start_time": "2021-08-24T16:06:46.132Z"
   },
   {
    "duration": 251,
    "start_time": "2021-08-24T16:07:00.106Z"
   },
   {
    "duration": 10,
    "start_time": "2021-08-24T16:07:08.796Z"
   },
   {
    "duration": 466,
    "start_time": "2021-08-24T16:13:47.857Z"
   },
   {
    "duration": 475,
    "start_time": "2021-08-24T16:14:17.607Z"
   },
   {
    "duration": 211,
    "start_time": "2021-08-24T16:14:47.936Z"
   },
   {
    "duration": 6409,
    "start_time": "2021-08-24T16:14:51.872Z"
   },
   {
    "duration": 210,
    "start_time": "2021-08-24T16:18:00.567Z"
   },
   {
    "duration": 8,
    "start_time": "2021-08-24T16:18:08.086Z"
   },
   {
    "duration": 201,
    "start_time": "2021-08-24T16:18:17.290Z"
   },
   {
    "duration": 76,
    "start_time": "2021-08-24T16:18:17.687Z"
   },
   {
    "duration": 8,
    "start_time": "2021-08-24T16:18:18.557Z"
   },
   {
    "duration": 75,
    "start_time": "2021-08-24T16:19:32.015Z"
   },
   {
    "duration": 20,
    "start_time": "2021-08-24T16:19:38.625Z"
   },
   {
    "duration": 10,
    "start_time": "2021-08-24T16:20:21.889Z"
   },
   {
    "duration": 6,
    "start_time": "2021-08-24T16:20:30.302Z"
   },
   {
    "duration": 55,
    "start_time": "2021-08-24T16:32:37.854Z"
   },
   {
    "duration": 8,
    "start_time": "2021-08-24T16:32:45.273Z"
   },
   {
    "duration": 56,
    "start_time": "2021-08-24T16:33:24.794Z"
   },
   {
    "duration": 8,
    "start_time": "2021-08-24T16:33:25.462Z"
   },
   {
    "duration": 56,
    "start_time": "2021-08-24T16:55:57.970Z"
   },
   {
    "duration": 9,
    "start_time": "2021-08-24T16:55:58.765Z"
   },
   {
    "duration": 501,
    "start_time": "2021-08-24T17:17:35.684Z"
   },
   {
    "duration": 9,
    "start_time": "2021-08-24T17:17:36.187Z"
   },
   {
    "duration": 55,
    "start_time": "2021-08-24T17:20:02.631Z"
   },
   {
    "duration": 7,
    "start_time": "2021-08-24T17:20:09.926Z"
   },
   {
    "duration": 54,
    "start_time": "2021-08-24T17:20:27.215Z"
   },
   {
    "duration": 8,
    "start_time": "2021-08-24T17:20:27.626Z"
   },
   {
    "duration": 316,
    "start_time": "2021-08-24T17:44:14.877Z"
   },
   {
    "duration": 342,
    "start_time": "2021-08-24T17:47:13.388Z"
   },
   {
    "duration": 83,
    "start_time": "2021-08-24T17:51:18.497Z"
   },
   {
    "duration": 73,
    "start_time": "2021-08-24T17:51:23.777Z"
   },
   {
    "duration": 11,
    "start_time": "2021-08-24T17:51:34.966Z"
   },
   {
    "duration": 56,
    "start_time": "2021-08-24T17:51:54.203Z"
   },
   {
    "duration": 12,
    "start_time": "2021-08-24T17:51:55.361Z"
   },
   {
    "duration": 74,
    "start_time": "2021-08-24T17:53:18.828Z"
   },
   {
    "duration": 16,
    "start_time": "2021-08-24T17:53:19.270Z"
   },
   {
    "duration": 8,
    "start_time": "2021-08-24T17:55:36.107Z"
   },
   {
    "duration": 239,
    "start_time": "2021-08-24T17:55:42.045Z"
   },
   {
    "duration": 6,
    "start_time": "2021-08-24T17:55:54.263Z"
   },
   {
    "duration": 73,
    "start_time": "2021-08-24T17:57:34.413Z"
   },
   {
    "duration": 13,
    "start_time": "2021-08-24T17:57:35.443Z"
   },
   {
    "duration": 6,
    "start_time": "2021-08-24T18:03:15.347Z"
   },
   {
    "duration": 5,
    "start_time": "2021-08-24T18:03:27.127Z"
   },
   {
    "duration": 471,
    "start_time": "2021-08-24T18:18:12.434Z"
   },
   {
    "duration": 391,
    "start_time": "2021-08-24T18:18:21.265Z"
   },
   {
    "duration": 357,
    "start_time": "2021-08-24T18:19:02.113Z"
   },
   {
    "duration": 332,
    "start_time": "2021-08-24T18:19:31.310Z"
   },
   {
    "duration": 70,
    "start_time": "2021-08-24T18:19:54.810Z"
   },
   {
    "duration": 335,
    "start_time": "2021-08-24T18:20:13.890Z"
   },
   {
    "duration": 319,
    "start_time": "2021-08-24T18:21:21.089Z"
   },
   {
    "duration": 386,
    "start_time": "2021-08-24T18:21:40.000Z"
   },
   {
    "duration": 377,
    "start_time": "2021-08-24T18:22:10.152Z"
   },
   {
    "duration": 371,
    "start_time": "2021-08-24T18:22:29.615Z"
   },
   {
    "duration": 356,
    "start_time": "2021-08-24T18:22:50.254Z"
   },
   {
    "duration": 380,
    "start_time": "2021-08-24T18:32:00.447Z"
   },
   {
    "duration": 343,
    "start_time": "2021-08-24T19:07:39.160Z"
   },
   {
    "duration": 365,
    "start_time": "2021-08-24T19:08:19.580Z"
   },
   {
    "duration": 60,
    "start_time": "2021-08-24T19:10:06.086Z"
   },
   {
    "duration": 8,
    "start_time": "2021-08-24T19:10:13.284Z"
   },
   {
    "duration": 358,
    "start_time": "2021-08-24T19:13:16.624Z"
   },
   {
    "duration": 7,
    "start_time": "2021-08-24T19:13:17.228Z"
   },
   {
    "duration": 60,
    "start_time": "2021-08-24T19:17:51.774Z"
   },
   {
    "duration": 8,
    "start_time": "2021-08-24T19:17:55.520Z"
   },
   {
    "duration": 61,
    "start_time": "2021-08-24T19:19:20.857Z"
   },
   {
    "duration": 8,
    "start_time": "2021-08-24T19:19:21.280Z"
   },
   {
    "duration": 274,
    "start_time": "2021-08-24T19:21:53.441Z"
   },
   {
    "duration": 9,
    "start_time": "2021-08-24T19:22:54.574Z"
   },
   {
    "duration": 9,
    "start_time": "2021-08-24T19:23:22.133Z"
   },
   {
    "duration": 8,
    "start_time": "2021-08-24T19:23:31.333Z"
   },
   {
    "duration": 801,
    "start_time": "2021-08-24T19:23:56.384Z"
   },
   {
    "duration": 36,
    "start_time": "2021-08-24T19:23:57.188Z"
   },
   {
    "duration": 202,
    "start_time": "2021-08-24T19:23:57.228Z"
   },
   {
    "duration": 23,
    "start_time": "2021-08-24T19:23:57.433Z"
   },
   {
    "duration": 65,
    "start_time": "2021-08-24T19:23:57.458Z"
   },
   {
    "duration": 8,
    "start_time": "2021-08-24T19:23:57.526Z"
   },
   {
    "duration": 76,
    "start_time": "2021-08-24T19:23:57.537Z"
   },
   {
    "duration": 11,
    "start_time": "2021-08-24T19:23:57.617Z"
   },
   {
    "duration": 57,
    "start_time": "2021-08-24T19:23:57.631Z"
   },
   {
    "duration": 8,
    "start_time": "2021-08-24T19:23:57.690Z"
   },
   {
    "duration": 18,
    "start_time": "2021-08-24T19:23:57.701Z"
   },
   {
    "duration": 105,
    "start_time": "2021-08-24T19:23:57.721Z"
   },
   {
    "duration": -350,
    "start_time": "2021-08-24T19:23:58.179Z"
   },
   {
    "duration": -351,
    "start_time": "2021-08-24T19:23:58.181Z"
   },
   {
    "duration": -350,
    "start_time": "2021-08-24T19:23:58.182Z"
   },
   {
    "duration": -349,
    "start_time": "2021-08-24T19:23:58.183Z"
   },
   {
    "duration": 13,
    "start_time": "2021-08-24T19:24:49.293Z"
   },
   {
    "duration": 12,
    "start_time": "2021-08-24T19:25:09.598Z"
   },
   {
    "duration": 378,
    "start_time": "2021-08-24T19:25:47.238Z"
   },
   {
    "duration": 294,
    "start_time": "2021-08-24T19:26:55.946Z"
   },
   {
    "duration": 9,
    "start_time": "2021-08-24T19:27:10.917Z"
   },
   {
    "duration": 10,
    "start_time": "2021-08-24T19:27:16.341Z"
   },
   {
    "duration": 15,
    "start_time": "2021-08-24T19:27:21.509Z"
   },
   {
    "duration": 294,
    "start_time": "2021-08-24T19:27:34.884Z"
   },
   {
    "duration": 9,
    "start_time": "2021-08-24T19:27:45.424Z"
   },
   {
    "duration": 6,
    "start_time": "2021-08-24T19:27:50.307Z"
   },
   {
    "duration": 7,
    "start_time": "2021-08-24T19:27:50.988Z"
   },
   {
    "duration": 8,
    "start_time": "2021-08-24T19:27:59.613Z"
   },
   {
    "duration": 14,
    "start_time": "2021-08-24T19:28:00.115Z"
   },
   {
    "duration": 9,
    "start_time": "2021-08-24T19:28:07.292Z"
   },
   {
    "duration": 4,
    "start_time": "2021-08-24T19:28:07.725Z"
   },
   {
    "duration": 9,
    "start_time": "2021-08-24T19:28:12.691Z"
   },
   {
    "duration": 3,
    "start_time": "2021-08-24T19:28:13.136Z"
   },
   {
    "duration": 7,
    "start_time": "2021-08-24T19:28:17.323Z"
   },
   {
    "duration": 13,
    "start_time": "2021-08-24T19:28:17.815Z"
   },
   {
    "duration": 5,
    "start_time": "2021-08-24T19:28:34.940Z"
   },
   {
    "duration": 294,
    "start_time": "2021-08-24T19:28:44.627Z"
   },
   {
    "duration": 5,
    "start_time": "2021-08-24T19:29:04.671Z"
   },
   {
    "duration": 13,
    "start_time": "2021-08-24T19:29:13.216Z"
   },
   {
    "duration": 301,
    "start_time": "2021-08-24T19:41:13.717Z"
   },
   {
    "duration": 358,
    "start_time": "2021-08-24T19:41:24.486Z"
   },
   {
    "duration": 56,
    "start_time": "2021-08-24T19:41:40.131Z"
   },
   {
    "duration": 11,
    "start_time": "2021-08-24T19:41:53.520Z"
   },
   {
    "duration": 57,
    "start_time": "2021-08-24T19:42:53.119Z"
   },
   {
    "duration": 12,
    "start_time": "2021-08-24T19:42:53.514Z"
   },
   {
    "duration": 64,
    "start_time": "2021-08-24T19:43:27.287Z"
   },
   {
    "duration": 12,
    "start_time": "2021-08-24T19:43:29.334Z"
   },
   {
    "duration": 298,
    "start_time": "2021-08-24T19:45:46.187Z"
   },
   {
    "duration": 13,
    "start_time": "2021-08-24T19:45:46.869Z"
   },
   {
    "duration": 378,
    "start_time": "2021-08-24T19:46:07.077Z"
   },
   {
    "duration": 346,
    "start_time": "2021-08-24T19:46:14.568Z"
   },
   {
    "duration": 341,
    "start_time": "2021-08-24T19:46:34.610Z"
   },
   {
    "duration": 56,
    "start_time": "2021-08-24T19:46:51.704Z"
   },
   {
    "duration": 12,
    "start_time": "2021-08-24T19:46:53.519Z"
   },
   {
    "duration": 487,
    "start_time": "2021-08-24T19:49:04.221Z"
   },
   {
    "duration": 12,
    "start_time": "2021-08-24T19:49:04.736Z"
   },
   {
    "duration": 349,
    "start_time": "2021-08-24T19:49:33.197Z"
   },
   {
    "duration": 339,
    "start_time": "2021-08-24T19:49:48.934Z"
   },
   {
    "duration": 361,
    "start_time": "2021-08-24T19:50:05.500Z"
   },
   {
    "duration": 12,
    "start_time": "2021-08-24T19:50:06.936Z"
   },
   {
    "duration": 322,
    "start_time": "2021-08-24T20:00:28.258Z"
   },
   {
    "duration": 56,
    "start_time": "2021-08-24T20:00:33.869Z"
   },
   {
    "duration": 361,
    "start_time": "2021-08-24T20:01:03.316Z"
   },
   {
    "duration": 12,
    "start_time": "2021-08-24T20:01:04.234Z"
   },
   {
    "duration": 508,
    "start_time": "2021-08-24T20:01:09.671Z"
   },
   {
    "duration": 11,
    "start_time": "2021-08-24T20:01:10.210Z"
   },
   {
    "duration": 65,
    "start_time": "2021-08-24T20:01:52.318Z"
   },
   {
    "duration": 352,
    "start_time": "2021-08-24T20:02:28.235Z"
   },
   {
    "duration": 12,
    "start_time": "2021-08-24T20:02:28.941Z"
   },
   {
    "duration": 325,
    "start_time": "2021-08-24T20:03:17.814Z"
   },
   {
    "duration": 12,
    "start_time": "2021-08-24T20:03:19.003Z"
   },
   {
    "duration": 327,
    "start_time": "2021-08-24T20:03:34.508Z"
   },
   {
    "duration": 11,
    "start_time": "2021-08-24T20:03:35.527Z"
   },
   {
    "duration": 58,
    "start_time": "2021-08-24T20:05:10.105Z"
   },
   {
    "duration": 11,
    "start_time": "2021-08-24T20:05:11.051Z"
   },
   {
    "duration": 12,
    "start_time": "2021-08-24T20:05:25.185Z"
   },
   {
    "duration": 57,
    "start_time": "2021-08-24T20:06:49.967Z"
   },
   {
    "duration": 14,
    "start_time": "2021-08-24T20:06:51.178Z"
   },
   {
    "duration": 57,
    "start_time": "2021-08-24T20:08:07.778Z"
   },
   {
    "duration": 14,
    "start_time": "2021-08-24T20:08:08.349Z"
   },
   {
    "duration": 86,
    "start_time": "2021-08-24T20:09:50.423Z"
   },
   {
    "duration": 290,
    "start_time": "2021-08-24T20:13:01.898Z"
   },
   {
    "duration": 13,
    "start_time": "2021-08-24T20:13:02.292Z"
   },
   {
    "duration": 826,
    "start_time": "2021-08-24T20:15:57.365Z"
   },
   {
    "duration": 39,
    "start_time": "2021-08-24T20:15:58.194Z"
   },
   {
    "duration": 199,
    "start_time": "2021-08-24T20:15:58.236Z"
   },
   {
    "duration": 17,
    "start_time": "2021-08-24T20:15:58.438Z"
   },
   {
    "duration": 60,
    "start_time": "2021-08-24T20:15:58.458Z"
   },
   {
    "duration": 9,
    "start_time": "2021-08-24T20:15:58.520Z"
   },
   {
    "duration": 86,
    "start_time": "2021-08-24T20:15:58.532Z"
   },
   {
    "duration": 11,
    "start_time": "2021-08-24T20:15:58.620Z"
   },
   {
    "duration": 64,
    "start_time": "2021-08-24T20:15:58.635Z"
   },
   {
    "duration": 7,
    "start_time": "2021-08-24T20:15:58.702Z"
   },
   {
    "duration": 62,
    "start_time": "2021-08-24T20:15:58.712Z"
   },
   {
    "duration": 14,
    "start_time": "2021-08-24T20:15:58.777Z"
   },
   {
    "duration": 101,
    "start_time": "2021-08-24T20:15:58.794Z"
   },
   {
    "duration": -56,
    "start_time": "2021-08-24T20:15:58.954Z"
   },
   {
    "duration": -58,
    "start_time": "2021-08-24T20:15:58.957Z"
   },
   {
    "duration": -58,
    "start_time": "2021-08-24T20:15:58.959Z"
   },
   {
    "duration": -67,
    "start_time": "2021-08-24T20:15:58.969Z"
   },
   {
    "duration": -111,
    "start_time": "2021-08-24T20:15:59.015Z"
   },
   {
    "duration": 227,
    "start_time": "2021-08-24T20:30:12.435Z"
   },
   {
    "duration": 163,
    "start_time": "2021-08-24T20:31:23.165Z"
   },
   {
    "duration": 32,
    "start_time": "2021-08-24T20:31:30.870Z"
   },
   {
    "duration": 376,
    "start_time": "2021-08-24T20:33:37.672Z"
   },
   {
    "duration": 29,
    "start_time": "2021-08-24T20:33:39.551Z"
   },
   {
    "duration": 394,
    "start_time": "2021-08-24T20:34:55.801Z"
   },
   {
    "duration": 28,
    "start_time": "2021-08-24T20:34:56.397Z"
   },
   {
    "duration": 140,
    "start_time": "2021-08-24T20:35:25.337Z"
   },
   {
    "duration": 11,
    "start_time": "2021-08-24T20:35:26.400Z"
   },
   {
    "duration": 58,
    "start_time": "2021-08-24T20:36:00.737Z"
   },
   {
    "duration": 8,
    "start_time": "2021-08-24T20:36:01.144Z"
   },
   {
    "duration": 67,
    "start_time": "2021-08-24T20:36:54.051Z"
   },
   {
    "duration": 13,
    "start_time": "2021-08-24T20:36:54.463Z"
   },
   {
    "duration": 69,
    "start_time": "2021-08-24T20:37:58.265Z"
   },
   {
    "duration": 14,
    "start_time": "2021-08-24T20:37:58.645Z"
   },
   {
    "duration": 58,
    "start_time": "2021-08-24T20:38:21.048Z"
   },
   {
    "duration": 13,
    "start_time": "2021-08-24T20:38:21.423Z"
   },
   {
    "duration": 15,
    "start_time": "2021-08-24T20:39:43.159Z"
   },
   {
    "duration": 102,
    "start_time": "2021-08-24T20:43:09.129Z"
   },
   {
    "duration": 370,
    "start_time": "2021-08-24T20:48:03.313Z"
   },
   {
    "duration": 13,
    "start_time": "2021-08-24T20:48:03.849Z"
   },
   {
    "duration": 308,
    "start_time": "2021-08-24T20:49:43.327Z"
   },
   {
    "duration": 164,
    "start_time": "2021-08-24T20:50:00.982Z"
   },
   {
    "duration": 24,
    "start_time": "2021-08-24T20:50:03.244Z"
   },
   {
    "duration": 56,
    "start_time": "2021-08-24T20:50:32.281Z"
   },
   {
    "duration": 11,
    "start_time": "2021-08-24T20:50:32.747Z"
   },
   {
    "duration": 72,
    "start_time": "2021-08-24T20:51:02.275Z"
   },
   {
    "duration": 13,
    "start_time": "2021-08-24T20:51:02.771Z"
   },
   {
    "duration": 301,
    "start_time": "2021-08-24T21:02:31.100Z"
   },
   {
    "duration": 112,
    "start_time": "2021-08-24T21:02:39.934Z"
   },
   {
    "duration": 62,
    "start_time": "2021-08-24T21:03:01.867Z"
   },
   {
    "duration": 61,
    "start_time": "2021-08-24T21:03:35.612Z"
   },
   {
    "duration": 111,
    "start_time": "2021-08-24T21:05:56.615Z"
   },
   {
    "duration": 116,
    "start_time": "2021-08-24T21:06:19.935Z"
   },
   {
    "duration": 184,
    "start_time": "2021-08-24T21:07:13.705Z"
   },
   {
    "duration": 1235,
    "start_time": "2021-08-24T21:10:32.788Z"
   },
   {
    "duration": 12,
    "start_time": "2021-08-24T21:11:13.463Z"
   },
   {
    "duration": 10,
    "start_time": "2021-08-24T21:11:39.932Z"
   },
   {
    "duration": 13,
    "start_time": "2021-08-24T21:11:45.701Z"
   },
   {
    "duration": 5,
    "start_time": "2021-08-24T21:12:31.023Z"
   },
   {
    "duration": 12,
    "start_time": "2021-08-24T21:12:38.259Z"
   },
   {
    "duration": 329,
    "start_time": "2021-08-24T21:16:15.865Z"
   },
   {
    "duration": 10,
    "start_time": "2021-08-24T21:16:16.500Z"
   },
   {
    "duration": 294,
    "start_time": "2021-08-24T21:16:42.832Z"
   },
   {
    "duration": 179,
    "start_time": "2021-08-24T21:17:07.236Z"
   },
   {
    "duration": 461,
    "start_time": "2021-08-24T21:17:27.781Z"
   },
   {
    "duration": 194,
    "start_time": "2021-08-24T21:18:03.881Z"
   },
   {
    "duration": 354,
    "start_time": "2021-08-24T21:18:58.844Z"
   },
   {
    "duration": 349,
    "start_time": "2021-08-24T21:19:07.353Z"
   },
   {
    "duration": 61,
    "start_time": "2021-08-24T21:20:26.191Z"
   },
   {
    "duration": 66,
    "start_time": "2021-08-24T21:20:40.261Z"
   },
   {
    "duration": 3,
    "start_time": "2021-08-24T21:21:32.513Z"
   },
   {
    "duration": 67,
    "start_time": "2021-08-24T21:23:00.361Z"
   },
   {
    "duration": 337,
    "start_time": "2021-08-24T21:24:47.925Z"
   },
   {
    "duration": 175,
    "start_time": "2021-08-24T21:27:43.552Z"
   },
   {
    "duration": 180,
    "start_time": "2021-08-24T21:27:56.528Z"
   },
   {
    "duration": 69,
    "start_time": "2021-08-24T21:31:02.525Z"
   },
   {
    "duration": 354,
    "start_time": "2021-08-24T21:31:42.158Z"
   },
   {
    "duration": 2108,
    "start_time": "2021-08-25T08:31:13.166Z"
   },
   {
    "duration": 1028,
    "start_time": "2021-08-25T08:32:08.311Z"
   },
   {
    "duration": 564,
    "start_time": "2021-08-25T08:41:41.409Z"
   },
   {
    "duration": 967,
    "start_time": "2021-08-25T08:42:09.422Z"
   },
   {
    "duration": 36,
    "start_time": "2021-08-25T08:42:10.392Z"
   },
   {
    "duration": 3,
    "start_time": "2021-08-25T08:42:10.432Z"
   },
   {
    "duration": 59,
    "start_time": "2021-08-25T08:42:10.439Z"
   },
   {
    "duration": 17,
    "start_time": "2021-08-25T08:42:10.501Z"
   },
   {
    "duration": 3,
    "start_time": "2021-08-25T08:42:10.521Z"
   },
   {
    "duration": 26,
    "start_time": "2021-08-25T08:42:10.527Z"
   },
   {
    "duration": 13,
    "start_time": "2021-08-25T08:42:10.588Z"
   },
   {
    "duration": 19,
    "start_time": "2021-08-25T08:42:10.604Z"
   },
   {
    "duration": 11,
    "start_time": "2021-08-25T08:42:10.625Z"
   },
   {
    "duration": 13,
    "start_time": "2021-08-25T08:42:10.638Z"
   },
   {
    "duration": 1000,
    "start_time": "2021-08-25T08:42:10.653Z"
   },
   {
    "duration": -211,
    "start_time": "2021-08-25T08:42:11.866Z"
   },
   {
    "duration": -213,
    "start_time": "2021-08-25T08:42:11.870Z"
   },
   {
    "duration": -215,
    "start_time": "2021-08-25T08:42:11.873Z"
   },
   {
    "duration": -216,
    "start_time": "2021-08-25T08:42:11.875Z"
   },
   {
    "duration": -215,
    "start_time": "2021-08-25T08:42:11.876Z"
   },
   {
    "duration": -216,
    "start_time": "2021-08-25T08:42:11.878Z"
   },
   {
    "duration": -216,
    "start_time": "2021-08-25T08:42:11.879Z"
   },
   {
    "duration": -216,
    "start_time": "2021-08-25T08:42:11.881Z"
   },
   {
    "duration": -218,
    "start_time": "2021-08-25T08:42:11.884Z"
   },
   {
    "duration": -219,
    "start_time": "2021-08-25T08:42:11.886Z"
   },
   {
    "duration": -220,
    "start_time": "2021-08-25T08:42:11.888Z"
   },
   {
    "duration": -219,
    "start_time": "2021-08-25T08:42:11.889Z"
   },
   {
    "duration": -220,
    "start_time": "2021-08-25T08:42:11.891Z"
   },
   {
    "duration": -220,
    "start_time": "2021-08-25T08:42:11.892Z"
   },
   {
    "duration": -220,
    "start_time": "2021-08-25T08:42:11.894Z"
   },
   {
    "duration": 21,
    "start_time": "2021-08-25T08:42:26.220Z"
   },
   {
    "duration": 1333,
    "start_time": "2021-08-25T08:45:52.822Z"
   },
   {
    "duration": 2154,
    "start_time": "2021-08-25T08:47:02.548Z"
   },
   {
    "duration": 1125,
    "start_time": "2021-08-25T08:47:11.475Z"
   },
   {
    "duration": 1114,
    "start_time": "2021-08-25T08:47:15.588Z"
   },
   {
    "duration": 968,
    "start_time": "2021-08-25T08:49:39.063Z"
   },
   {
    "duration": 2145,
    "start_time": "2021-08-25T08:50:26.728Z"
   },
   {
    "duration": 591,
    "start_time": "2021-08-25T08:50:39.646Z"
   },
   {
    "duration": 451,
    "start_time": "2021-08-25T08:52:19.762Z"
   },
   {
    "duration": 29,
    "start_time": "2021-08-25T09:02:05.758Z"
   },
   {
    "duration": 21,
    "start_time": "2021-08-25T09:02:45.400Z"
   },
   {
    "duration": 24,
    "start_time": "2021-08-25T09:03:12.781Z"
   },
   {
    "duration": 25,
    "start_time": "2021-08-25T09:04:15.627Z"
   },
   {
    "duration": 829,
    "start_time": "2021-08-25T09:13:45.937Z"
   },
   {
    "duration": 30,
    "start_time": "2021-08-25T09:14:57.993Z"
   },
   {
    "duration": 878,
    "start_time": "2021-08-25T09:16:03.717Z"
   },
   {
    "duration": 28,
    "start_time": "2021-08-25T09:16:23.680Z"
   },
   {
    "duration": 696,
    "start_time": "2021-08-25T09:16:57.186Z"
   },
   {
    "duration": 27,
    "start_time": "2021-08-25T09:17:13.677Z"
   },
   {
    "duration": 599,
    "start_time": "2021-08-25T09:54:06.880Z"
   },
   {
    "duration": 23,
    "start_time": "2021-08-25T09:59:05.584Z"
   },
   {
    "duration": 26,
    "start_time": "2021-08-25T10:11:25.947Z"
   },
   {
    "duration": 2671,
    "start_time": "2021-08-25T10:30:43.542Z"
   },
   {
    "duration": 26,
    "start_time": "2021-08-25T10:30:54.521Z"
   },
   {
    "duration": 558,
    "start_time": "2021-08-25T11:03:18.891Z"
   },
   {
    "duration": 28,
    "start_time": "2021-08-25T11:03:22.520Z"
   },
   {
    "duration": 568,
    "start_time": "2021-08-25T11:05:06.494Z"
   },
   {
    "duration": 20,
    "start_time": "2021-08-25T11:05:46.247Z"
   },
   {
    "duration": 440,
    "start_time": "2021-08-25T11:06:08.134Z"
   },
   {
    "duration": 420,
    "start_time": "2021-08-25T11:06:12.068Z"
   },
   {
    "duration": 454,
    "start_time": "2021-08-25T11:06:20.697Z"
   },
   {
    "duration": 27,
    "start_time": "2021-08-25T11:06:25.817Z"
   },
   {
    "duration": 430,
    "start_time": "2021-08-25T11:07:20.054Z"
   },
   {
    "duration": 550,
    "start_time": "2021-08-25T11:09:30.537Z"
   },
   {
    "duration": -163,
    "start_time": "2021-08-25T11:09:31.253Z"
   },
   {
    "duration": 460,
    "start_time": "2021-08-25T11:09:47.506Z"
   },
   {
    "duration": 16,
    "start_time": "2021-08-25T11:10:34.896Z"
   },
   {
    "duration": 460,
    "start_time": "2021-08-25T11:11:01.326Z"
   },
   {
    "duration": 26,
    "start_time": "2021-08-25T11:11:13.480Z"
   },
   {
    "duration": 463,
    "start_time": "2021-08-25T11:16:42.329Z"
   },
   {
    "duration": 534,
    "start_time": "2021-08-25T11:17:56.915Z"
   },
   {
    "duration": 303,
    "start_time": "2021-08-25T11:18:13.520Z"
   },
   {
    "duration": 416,
    "start_time": "2021-08-25T11:22:44.481Z"
   },
   {
    "duration": 449,
    "start_time": "2021-08-25T11:22:50.490Z"
   },
   {
    "duration": 242,
    "start_time": "2021-08-25T11:24:00.734Z"
   },
   {
    "duration": 526,
    "start_time": "2021-08-25T11:25:30.699Z"
   },
   {
    "duration": 230,
    "start_time": "2021-08-25T11:26:18.092Z"
   },
   {
    "duration": 25,
    "start_time": "2021-08-25T11:27:09.584Z"
   },
   {
    "duration": 25,
    "start_time": "2021-08-25T11:27:41.455Z"
   },
   {
    "duration": 478,
    "start_time": "2021-08-25T11:29:34.076Z"
   },
   {
    "duration": 541,
    "start_time": "2021-08-25T11:29:53.480Z"
   },
   {
    "duration": 24,
    "start_time": "2021-08-25T11:30:12.132Z"
   },
   {
    "duration": 583,
    "start_time": "2021-08-25T11:32:00.830Z"
   },
   {
    "duration": 25,
    "start_time": "2021-08-25T11:32:48.399Z"
   },
   {
    "duration": 26,
    "start_time": "2021-08-25T11:42:46.109Z"
   },
   {
    "duration": 26,
    "start_time": "2021-08-25T11:43:47.377Z"
   },
   {
    "duration": 22,
    "start_time": "2021-08-25T11:44:58.313Z"
   },
   {
    "duration": 412,
    "start_time": "2021-08-25T11:45:43.525Z"
   },
   {
    "duration": 40,
    "start_time": "2021-08-25T11:46:13.775Z"
   },
   {
    "duration": 25,
    "start_time": "2021-08-25T11:48:16.098Z"
   },
   {
    "duration": 23,
    "start_time": "2021-08-25T11:50:38.827Z"
   },
   {
    "duration": 33,
    "start_time": "2021-08-25T11:52:02.952Z"
   },
   {
    "duration": 242,
    "start_time": "2021-08-25T11:52:54.248Z"
   },
   {
    "duration": 21,
    "start_time": "2021-08-25T11:56:05.307Z"
   },
   {
    "duration": 27,
    "start_time": "2021-08-25T11:56:58.712Z"
   },
   {
    "duration": 131,
    "start_time": "2021-08-25T12:03:18.764Z"
   },
   {
    "duration": 20,
    "start_time": "2021-08-25T12:17:41.400Z"
   },
   {
    "duration": 32,
    "start_time": "2021-08-25T12:17:44.141Z"
   },
   {
    "duration": 15,
    "start_time": "2021-08-25T12:19:27.622Z"
   },
   {
    "duration": 20,
    "start_time": "2021-08-25T12:20:59.498Z"
   },
   {
    "duration": 41,
    "start_time": "2021-08-25T12:20:59.845Z"
   },
   {
    "duration": 29,
    "start_time": "2021-08-25T12:21:00.384Z"
   },
   {
    "duration": 19,
    "start_time": "2021-08-25T12:21:39.427Z"
   },
   {
    "duration": 20,
    "start_time": "2021-08-25T12:22:07.360Z"
   },
   {
    "duration": 26,
    "start_time": "2021-08-25T12:22:44.745Z"
   },
   {
    "duration": 19,
    "start_time": "2021-08-25T12:22:48.424Z"
   },
   {
    "duration": 26,
    "start_time": "2021-08-25T12:23:19.656Z"
   },
   {
    "duration": 29,
    "start_time": "2021-08-25T12:23:29.189Z"
   },
   {
    "duration": 35,
    "start_time": "2021-08-25T12:23:50.183Z"
   },
   {
    "duration": 23,
    "start_time": "2021-08-25T12:24:10.109Z"
   },
   {
    "duration": 147,
    "start_time": "2021-08-25T12:43:14.402Z"
   },
   {
    "duration": 3,
    "start_time": "2021-08-25T20:00:20.171Z"
   },
   {
    "duration": 654,
    "start_time": "2021-08-25T20:00:20.176Z"
   },
   {
    "duration": 27,
    "start_time": "2021-08-25T20:00:20.833Z"
   },
   {
    "duration": 306,
    "start_time": "2021-08-25T20:00:20.861Z"
   },
   {
    "duration": 77,
    "start_time": "2021-08-25T20:00:21.169Z"
   },
   {
    "duration": 77,
    "start_time": "2021-08-25T20:00:21.248Z"
   },
   {
    "duration": 99,
    "start_time": "2021-08-25T20:00:21.326Z"
   },
   {
    "duration": 93,
    "start_time": "2021-08-25T20:00:21.428Z"
   },
   {
    "duration": 75,
    "start_time": "2021-08-25T20:00:21.523Z"
   },
   {
    "duration": 77,
    "start_time": "2021-08-25T20:00:21.599Z"
   },
   {
    "duration": 78,
    "start_time": "2021-08-25T20:00:21.678Z"
   },
   {
    "duration": 75,
    "start_time": "2021-08-25T20:00:21.758Z"
   },
   {
    "duration": 76,
    "start_time": "2021-08-25T20:00:21.835Z"
   },
   {
    "duration": 7,
    "start_time": "2021-08-25T20:00:21.913Z"
   },
   {
    "duration": 85,
    "start_time": "2021-08-25T20:00:21.921Z"
   },
   {
    "duration": 90,
    "start_time": "2021-08-25T20:00:22.007Z"
   },
   {
    "duration": 92,
    "start_time": "2021-08-25T20:00:22.099Z"
   },
   {
    "duration": 404,
    "start_time": "2021-08-26T09:39:07.477Z"
   },
   {
    "duration": 934,
    "start_time": "2021-08-26T09:39:16.138Z"
   },
   {
    "duration": 55,
    "start_time": "2021-08-26T09:39:17.075Z"
   },
   {
    "duration": 414,
    "start_time": "2021-08-26T09:39:17.271Z"
   },
   {
    "duration": 82,
    "start_time": "2021-08-26T09:39:17.701Z"
   },
   {
    "duration": 85,
    "start_time": "2021-08-26T09:39:17.786Z"
   },
   {
    "duration": 139,
    "start_time": "2021-08-26T09:39:17.874Z"
   },
   {
    "duration": 104,
    "start_time": "2021-08-26T09:39:18.018Z"
   },
   {
    "duration": 79,
    "start_time": "2021-08-26T09:39:18.761Z"
   },
   {
    "duration": 79,
    "start_time": "2021-08-26T09:39:19.528Z"
   },
   {
    "duration": 729,
    "start_time": "2021-08-26T09:39:19.934Z"
   },
   {
    "duration": -206,
    "start_time": "2021-08-26T09:39:20.873Z"
   },
   {
    "duration": -206,
    "start_time": "2021-08-26T09:39:20.876Z"
   },
   {
    "duration": 456,
    "start_time": "2021-08-26T09:41:04.283Z"
   },
   {
    "duration": 131,
    "start_time": "2021-08-26T09:41:19.457Z"
   },
   {
    "duration": 119,
    "start_time": "2021-08-26T09:41:50.521Z"
   },
   {
    "duration": 113,
    "start_time": "2021-08-26T09:42:16.581Z"
   },
   {
    "duration": 131,
    "start_time": "2021-08-26T09:45:22.739Z"
   },
   {
    "duration": 131,
    "start_time": "2021-08-26T09:45:40.639Z"
   },
   {
    "duration": 116,
    "start_time": "2021-08-26T09:46:49.388Z"
   },
   {
    "duration": 94,
    "start_time": "2021-08-26T09:49:08.585Z"
   },
   {
    "duration": 98,
    "start_time": "2021-08-26T09:55:16.462Z"
   },
   {
    "duration": 87,
    "start_time": "2021-08-26T10:03:21.456Z"
   },
   {
    "duration": 94,
    "start_time": "2021-08-26T10:05:58.412Z"
   },
   {
    "duration": 90,
    "start_time": "2021-08-26T10:07:04.970Z"
   },
   {
    "duration": 89,
    "start_time": "2021-08-26T10:07:13.407Z"
   },
   {
    "duration": 88,
    "start_time": "2021-08-26T10:07:31.768Z"
   },
   {
    "duration": 364,
    "start_time": "2021-08-26T10:09:11.276Z"
   },
   {
    "duration": 79,
    "start_time": "2021-08-26T10:10:03.232Z"
   },
   {
    "duration": 78,
    "start_time": "2021-08-26T10:10:43.235Z"
   },
   {
    "duration": 79,
    "start_time": "2021-08-26T10:12:22.293Z"
   },
   {
    "duration": 93,
    "start_time": "2021-08-26T10:13:06.271Z"
   },
   {
    "duration": 79,
    "start_time": "2021-08-26T10:13:11.923Z"
   },
   {
    "duration": 78,
    "start_time": "2021-08-26T10:13:45.533Z"
   },
   {
    "duration": 81,
    "start_time": "2021-08-26T10:14:27.029Z"
   },
   {
    "duration": 81,
    "start_time": "2021-08-26T10:15:25.025Z"
   },
   {
    "duration": 384,
    "start_time": "2021-08-26T10:15:32.480Z"
   },
   {
    "duration": 409,
    "start_time": "2021-08-26T10:16:01.954Z"
   },
   {
    "duration": 83,
    "start_time": "2021-08-26T10:16:35.912Z"
   },
   {
    "duration": 79,
    "start_time": "2021-08-26T10:18:00.845Z"
   },
   {
    "duration": 78,
    "start_time": "2021-08-26T10:18:11.407Z"
   },
   {
    "duration": 81,
    "start_time": "2021-08-26T10:18:23.828Z"
   },
   {
    "duration": 368,
    "start_time": "2021-08-26T10:18:57.211Z"
   },
   {
    "duration": 376,
    "start_time": "2021-08-26T10:19:03.157Z"
   },
   {
    "duration": 85,
    "start_time": "2021-08-26T10:19:23.076Z"
   },
   {
    "duration": 80,
    "start_time": "2021-08-26T10:19:45.246Z"
   },
   {
    "duration": 382,
    "start_time": "2021-08-26T10:19:51.258Z"
   },
   {
    "duration": 824,
    "start_time": "2021-08-26T10:20:01.626Z"
   },
   {
    "duration": 107,
    "start_time": "2021-08-26T10:20:43.497Z"
   },
   {
    "duration": 362,
    "start_time": "2021-08-26T10:21:12.103Z"
   },
   {
    "duration": 380,
    "start_time": "2021-08-26T10:21:35.173Z"
   },
   {
    "duration": 83,
    "start_time": "2021-08-26T10:21:53.270Z"
   },
   {
    "duration": 437,
    "start_time": "2021-08-26T10:22:04.746Z"
   },
   {
    "duration": 369,
    "start_time": "2021-08-26T10:22:14.469Z"
   },
   {
    "duration": 84,
    "start_time": "2021-08-26T10:22:22.663Z"
   },
   {
    "duration": 101,
    "start_time": "2021-08-26T10:26:04.636Z"
   },
   {
    "duration": 370,
    "start_time": "2021-08-26T10:27:12.164Z"
   },
   {
    "duration": 79,
    "start_time": "2021-08-26T10:27:31.198Z"
   },
   {
    "duration": 78,
    "start_time": "2021-08-26T10:32:46.280Z"
   },
   {
    "duration": 368,
    "start_time": "2021-08-26T10:34:23.142Z"
   },
   {
    "duration": 79,
    "start_time": "2021-08-26T10:34:39.054Z"
   },
   {
    "duration": 879,
    "start_time": "2021-08-26T15:39:59.925Z"
   },
   {
    "duration": 68,
    "start_time": "2021-08-26T15:40:00.849Z"
   },
   {
    "duration": 18,
    "start_time": "2021-08-26T15:40:00.920Z"
   },
   {
    "duration": 57,
    "start_time": "2021-08-26T15:40:00.940Z"
   },
   {
    "duration": 53,
    "start_time": "2021-08-26T15:40:00.999Z"
   },
   {
    "duration": 36,
    "start_time": "2021-08-26T15:40:01.056Z"
   },
   {
    "duration": 46,
    "start_time": "2021-08-26T15:40:01.096Z"
   },
   {
    "duration": 57,
    "start_time": "2021-08-26T15:40:01.144Z"
   },
   {
    "duration": 72,
    "start_time": "2021-08-26T15:40:01.204Z"
   },
   {
    "duration": 31,
    "start_time": "2021-08-26T15:40:01.280Z"
   },
   {
    "duration": 33,
    "start_time": "2021-08-26T15:40:01.315Z"
   },
   {
    "duration": 47,
    "start_time": "2021-08-26T15:40:01.351Z"
   },
   {
    "duration": 16,
    "start_time": "2021-08-26T15:40:01.401Z"
   },
   {
    "duration": 38,
    "start_time": "2021-08-26T15:40:01.420Z"
   },
   {
    "duration": 25,
    "start_time": "2021-08-26T15:40:01.460Z"
   },
   {
    "duration": 55,
    "start_time": "2021-08-26T15:40:01.488Z"
   },
   {
    "duration": 54,
    "start_time": "2021-08-26T15:40:01.545Z"
   },
   {
    "duration": 28,
    "start_time": "2021-08-26T15:40:01.602Z"
   },
   {
    "duration": 33,
    "start_time": "2021-08-26T15:40:01.632Z"
   },
   {
    "duration": 423,
    "start_time": "2021-08-26T17:02:19.670Z"
   },
   {
    "duration": 885,
    "start_time": "2021-08-26T17:02:40.760Z"
   },
   {
    "duration": 45,
    "start_time": "2021-08-26T17:02:41.648Z"
   },
   {
    "duration": 62,
    "start_time": "2021-08-26T17:02:41.868Z"
   },
   {
    "duration": 19,
    "start_time": "2021-08-26T17:02:42.045Z"
   },
   {
    "duration": 24,
    "start_time": "2021-08-26T17:02:42.227Z"
   },
   {
    "duration": 35,
    "start_time": "2021-08-26T17:02:42.411Z"
   },
   {
    "duration": 27,
    "start_time": "2021-08-26T17:02:42.578Z"
   },
   {
    "duration": 15,
    "start_time": "2021-08-26T17:02:43.270Z"
   },
   {
    "duration": 16,
    "start_time": "2021-08-26T17:02:44.021Z"
   },
   {
    "duration": 37,
    "start_time": "2021-08-26T17:02:45.082Z"
   },
   {
    "duration": 22,
    "start_time": "2021-08-26T17:02:45.519Z"
   },
   {
    "duration": 15,
    "start_time": "2021-08-26T17:02:45.693Z"
   },
   {
    "duration": 17,
    "start_time": "2021-08-26T17:02:46.093Z"
   },
   {
    "duration": 14,
    "start_time": "2021-08-26T17:02:46.283Z"
   },
   {
    "duration": 26,
    "start_time": "2021-08-26T17:02:47.039Z"
   },
   {
    "duration": 30,
    "start_time": "2021-08-26T17:02:47.795Z"
   },
   {
    "duration": 24,
    "start_time": "2021-08-26T17:02:48.195Z"
   },
   {
    "duration": 17,
    "start_time": "2021-08-26T17:02:48.621Z"
   },
   {
    "duration": 16,
    "start_time": "2021-08-26T17:02:48.752Z"
   },
   {
    "duration": 20,
    "start_time": "2021-08-26T17:02:50.061Z"
   },
   {
    "duration": 16,
    "start_time": "2021-08-26T17:08:48.830Z"
   },
   {
    "duration": 15,
    "start_time": "2021-08-26T17:11:52.856Z"
   },
   {
    "duration": 21,
    "start_time": "2021-08-26T17:12:33.012Z"
   },
   {
    "duration": 17,
    "start_time": "2021-08-26T17:15:01.794Z"
   },
   {
    "duration": 16,
    "start_time": "2021-08-26T17:15:39.295Z"
   },
   {
    "duration": 16,
    "start_time": "2021-08-26T17:16:06.863Z"
   },
   {
    "duration": 18,
    "start_time": "2021-08-26T17:16:17.551Z"
   },
   {
    "duration": 20,
    "start_time": "2021-08-26T17:16:30.863Z"
   },
   {
    "duration": 449,
    "start_time": "2021-08-26T17:32:15.922Z"
   },
   {
    "duration": 18,
    "start_time": "2021-08-26T17:32:29.748Z"
   },
   {
    "duration": 879,
    "start_time": "2021-08-26T17:44:42.243Z"
   },
   {
    "duration": 42,
    "start_time": "2021-08-26T17:44:43.125Z"
   },
   {
    "duration": 58,
    "start_time": "2021-08-26T17:44:43.170Z"
   },
   {
    "duration": 19,
    "start_time": "2021-08-26T17:44:43.231Z"
   },
   {
    "duration": 17,
    "start_time": "2021-08-26T17:44:43.252Z"
   },
   {
    "duration": 38,
    "start_time": "2021-08-26T17:44:43.271Z"
   },
   {
    "duration": 52,
    "start_time": "2021-08-26T17:44:43.312Z"
   },
   {
    "duration": 16,
    "start_time": "2021-08-26T17:44:43.367Z"
   },
   {
    "duration": 14,
    "start_time": "2021-08-26T17:44:43.386Z"
   },
   {
    "duration": 32,
    "start_time": "2021-08-26T17:44:43.402Z"
   },
   {
    "duration": 41,
    "start_time": "2021-08-26T17:44:43.436Z"
   },
   {
    "duration": 14,
    "start_time": "2021-08-26T17:44:43.480Z"
   },
   {
    "duration": 18,
    "start_time": "2021-08-26T17:44:43.497Z"
   },
   {
    "duration": 45,
    "start_time": "2021-08-26T17:44:43.517Z"
   },
   {
    "duration": 29,
    "start_time": "2021-08-26T17:44:43.564Z"
   },
   {
    "duration": 23,
    "start_time": "2021-08-26T17:44:43.595Z"
   },
   {
    "duration": 25,
    "start_time": "2021-08-26T17:44:43.620Z"
   },
   {
    "duration": 16,
    "start_time": "2021-08-26T17:44:43.647Z"
   },
   {
    "duration": 14,
    "start_time": "2021-08-26T17:44:43.665Z"
   },
   {
    "duration": 15,
    "start_time": "2021-08-26T17:44:43.682Z"
   },
   {
    "duration": 742,
    "start_time": "2021-08-26T20:12:41.178Z"
   },
   {
    "duration": 41,
    "start_time": "2021-08-26T20:12:41.923Z"
   },
   {
    "duration": 73,
    "start_time": "2021-08-26T20:12:41.969Z"
   },
   {
    "duration": 39,
    "start_time": "2021-08-26T20:12:42.073Z"
   },
   {
    "duration": 54,
    "start_time": "2021-08-26T20:12:42.116Z"
   },
   {
    "duration": 55,
    "start_time": "2021-08-26T20:12:42.173Z"
   },
   {
    "duration": 15,
    "start_time": "2021-08-26T20:12:42.233Z"
   },
   {
    "duration": 52,
    "start_time": "2021-08-26T20:12:42.251Z"
   },
   {
    "duration": 33,
    "start_time": "2021-08-26T20:12:42.306Z"
   },
   {
    "duration": 22,
    "start_time": "2021-08-26T20:12:42.341Z"
   },
   {
    "duration": 13,
    "start_time": "2021-08-26T20:12:42.366Z"
   },
   {
    "duration": 33,
    "start_time": "2021-08-26T20:12:42.380Z"
   },
   {
    "duration": 12,
    "start_time": "2021-08-26T20:12:42.415Z"
   },
   {
    "duration": 26,
    "start_time": "2021-08-26T20:12:42.429Z"
   },
   {
    "duration": 21,
    "start_time": "2021-08-26T20:12:42.458Z"
   },
   {
    "duration": 40,
    "start_time": "2021-08-26T20:12:42.481Z"
   },
   {
    "duration": 15,
    "start_time": "2021-08-26T20:12:42.523Z"
   },
   {
    "duration": 14,
    "start_time": "2021-08-26T20:12:42.541Z"
   },
   {
    "duration": 16,
    "start_time": "2021-08-26T20:12:42.558Z"
   },
   {
    "duration": 754,
    "start_time": "2021-09-07T17:43:52.535Z"
   },
   {
    "duration": 38,
    "start_time": "2021-09-07T17:43:53.291Z"
   },
   {
    "duration": 239,
    "start_time": "2021-09-07T17:43:53.332Z"
   },
   {
    "duration": 74,
    "start_time": "2021-09-07T17:43:53.574Z"
   },
   {
    "duration": 66,
    "start_time": "2021-09-07T17:43:53.651Z"
   },
   {
    "duration": 88,
    "start_time": "2021-09-07T17:43:53.720Z"
   },
   {
    "duration": 74,
    "start_time": "2021-09-07T17:43:53.811Z"
   },
   {
    "duration": 58,
    "start_time": "2021-09-07T17:43:53.888Z"
   },
   {
    "duration": 59,
    "start_time": "2021-09-07T17:43:53.948Z"
   },
   {
    "duration": 79,
    "start_time": "2021-09-07T17:43:54.009Z"
   },
   {
    "duration": 63,
    "start_time": "2021-09-07T17:43:54.090Z"
   },
   {
    "duration": 57,
    "start_time": "2021-09-07T17:43:54.156Z"
   },
   {
    "duration": 59,
    "start_time": "2021-09-07T17:43:54.216Z"
   },
   {
    "duration": 12,
    "start_time": "2021-09-07T17:43:54.278Z"
   },
   {
    "duration": 71,
    "start_time": "2021-09-07T17:43:54.293Z"
   },
   {
    "duration": 67,
    "start_time": "2021-09-07T17:43:54.366Z"
   },
   {
    "duration": 74,
    "start_time": "2021-09-07T17:43:54.435Z"
   },
   {
    "duration": 64,
    "start_time": "2021-09-07T17:43:54.512Z"
   },
   {
    "duration": 60,
    "start_time": "2021-09-07T17:43:54.579Z"
   },
   {
    "duration": 63,
    "start_time": "2021-09-07T17:43:54.642Z"
   }
  ],
  "kernelspec": {
   "display_name": "Python 3",
   "language": "python",
   "name": "python3"
  },
  "language_info": {
   "codemirror_mode": {
    "name": "ipython",
    "version": 3
   },
   "file_extension": ".py",
   "mimetype": "text/x-python",
   "name": "python",
   "nbconvert_exporter": "python",
   "pygments_lexer": "ipython3",
   "version": "3.8.5"
  },
  "toc": {
   "base_numbering": 1,
   "nav_menu": {},
   "number_sections": true,
   "sideBar": true,
   "skip_h1_title": true,
   "title_cell": "Table of Contents",
   "title_sidebar": "Contents",
   "toc_cell": false,
   "toc_position": {},
   "toc_section_display": true,
   "toc_window_display": false
  }
 },
 "nbformat": 4,
 "nbformat_minor": 2
}
